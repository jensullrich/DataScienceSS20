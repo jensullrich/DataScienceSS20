{
  "nbformat": 4,
  "nbformat_minor": 0,
  "metadata": {
    "kernelspec": {
      "display_name": "Python 3",
      "language": "python",
      "name": "python3"
    },
    "language_info": {
      "codemirror_mode": {
        "name": "ipython",
        "version": 3
      },
      "file_extension": ".py",
      "mimetype": "text/x-python",
      "name": "python",
      "nbconvert_exporter": "python",
      "pygments_lexer": "ipython3",
      "version": "3.7.6"
    },
    "colab": {
      "name": "1_a_Python.ipynb",
      "provenance": [],
      "toc_visible": true
    }
  },
  "cells": [
    {
      "cell_type": "markdown",
      "metadata": {
        "id": "-ltVnozoZNKH",
        "colab_type": "text"
      },
      "source": [
        "# Exercise I: Your own Python module "
      ]
    },
    {
      "cell_type": "code",
      "metadata": {
        "id": "sTIUgl3sZNKI",
        "colab_type": "code",
        "colab": {
          "base_uri": "https://localhost:8080/",
          "height": 151
        },
        "outputId": "43399b1a-8127-44eb-9a19-62e2683171ac"
      },
      "source": [
        "#check if notebook runs in colab\n",
        "import sys\n",
        "IN_COLAB = 'google.colab' in sys.modules\n",
        "print('running in Colab:',IN_COLAB)\n",
        "path='..'\n",
        "if IN_COLAB:\n",
        "  #in colab, we need to clone the data from the repo\n",
        "  !git clone https://github.com/keuperj/DataScienceSS20.git\n",
        "  path='DataScienceSS20'\n",
        "  import sys\n",
        "  sys.path.append(path+'/Exercises/')"
      ],
      "execution_count": 1,
      "outputs": [
        {
          "output_type": "stream",
          "text": [
            "running in Colab: True\n",
            "Cloning into 'DataScienceSS20'...\n",
            "remote: Enumerating objects: 3, done.\u001b[K\n",
            "remote: Counting objects: 100% (3/3), done.\u001b[K\n",
            "remote: Compressing objects: 100% (3/3), done.\u001b[K\n",
            "remote: Total 313 (delta 0), reused 3 (delta 0), pack-reused 310\u001b[K\n",
            "Receiving objects: 100% (313/313), 62.82 MiB | 21.75 MiB/s, done.\n",
            "Resolving deltas: 100% (99/99), done.\n"
          ],
          "name": "stdout"
        }
      ]
    },
    {
      "cell_type": "markdown",
      "metadata": {
        "id": "x99TkeEZZNKN",
        "colab_type": "text"
      },
      "source": [
        "Write your own python module (choose a name) with the following properties:\n",
        "\n",
        "1. start new python file for the module\n",
        "2. define a class ***ListKeeper*** with the following properties and API:\n",
        "   1. ***Listkeeper*** strores named lists (hint: use dictionaries) \n",
        "   2. it initializes with a list named *example*: [1,2,3,4,5]\n",
        "   3. ``show()`` returns all list names\n",
        "   4. ``add(name, list)`` adds a new list\n",
        "   5. ``delete(name)`` deletes list\n",
        "   6. ``sort(name)`` returns the sorted list *name*\n",
        "   7. ``append(name, list)`` appends *list* to *name* \n",
        "3. add comments and documentation to your class\n",
        "4. Import your module in this notebook\n",
        "5. write tests to check the functionality of your class "
      ]
    },
    {
      "cell_type": "code",
      "metadata": {
        "id": "D-ZL9cQjrolA",
        "colab_type": "code",
        "colab": {}
      },
      "source": [
        "# load the autoreload extension\n",
        "%load_ext autoreload\n",
        "# Set extension to reload modules every time before executing code\n",
        "%autoreload 2"
      ],
      "execution_count": 0,
      "outputs": []
    },
    {
      "cell_type": "code",
      "metadata": {
        "id": "YjqlWL_QZNKN",
        "colab_type": "code",
        "colab": {}
      },
      "source": [
        "import ListKeeper as ListKeeper"
      ],
      "execution_count": 0,
      "outputs": []
    },
    {
      "cell_type": "code",
      "metadata": {
        "id": "T_rrKcTkoVPs",
        "colab_type": "code",
        "colab": {
          "base_uri": "https://localhost:8080/",
          "height": 151
        },
        "outputId": "fd55c0b0-f06f-4b76-d039-4415af1eec11"
      },
      "source": [
        "#test init and show\n",
        "test_list_keeper = ListKeeper.ListKeeper()\n",
        "print(\"show: \" + str(test_list_keeper.show()))\n",
        "print(\"example: \" + str(test_list_keeper['example']))\n",
        "\n",
        "#test add\n",
        "test_list_keeper.add(\"test_list\", [6, 6, 6])\n",
        "print(\"show after adding test_list: \" + str(test_list_keeper.show()))\n",
        "print(\"test_list: \" + str(test_list_keeper['test_list']))\n",
        "\n",
        "#test delete\n",
        "test_list_keeper.delete('test_list')\n",
        "print(\"show after deleting test_list: \" + str(test_list_keeper.show()))\n",
        "\n",
        "#test sort\n",
        "test_list_keeper.add('unsorted_list', [3, 1, 2])\n",
        "print('unsorted list: ' + str(test_list_keeper['unsorted_list']))\n",
        "test_list_keeper.sort('unsorted_list')\n",
        "print('sorted list: ' + str(test_list_keeper['unsorted_list']))\n",
        "\n",
        "#test append\n",
        "test_list_keeper.add('list1', [1, 2, 3])\n",
        "test_list_keeper.append('list1', [4, 5, 6])\n",
        "print('complete list' + str(test_list_keeper['list1']))\n",
        "\n"
      ],
      "execution_count": 61,
      "outputs": [
        {
          "output_type": "stream",
          "text": [
            "show: dict_keys(['example', 'unsorted_list'])\n",
            "example: [1, 2, 3, 4, 5]\n",
            "show after adding test_list: dict_keys(['example', 'unsorted_list', 'test_list'])\n",
            "test_list: [6, 6, 6]\n",
            "show after deleting test_list: dict_keys(['example', 'unsorted_list'])\n",
            "unsorted list: [3, 1, 2]\n",
            "sorted list: [1, 2, 3]\n",
            "complete list[1, 2, 3, 4, 5, 6]\n"
          ],
          "name": "stdout"
        }
      ]
    }
  ]
}