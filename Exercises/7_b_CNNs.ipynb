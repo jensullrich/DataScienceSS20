{
  "nbformat": 4,
  "nbformat_minor": 0,
  "metadata": {
    "colab": {
      "name": "Copy of Exercise_2 .ipynb",
      "provenance": [],
      "collapsed_sections": [],
      "include_colab_link": true
    },
    "kernelspec": {
      "display_name": "Python 3",
      "language": "python",
      "name": "python3"
    },
    "language_info": {
      "codemirror_mode": {
        "name": "ipython",
        "version": 3
      },
      "file_extension": ".py",
      "mimetype": "text/x-python",
      "name": "python",
      "nbconvert_exporter": "python",
      "pygments_lexer": "ipython3",
      "version": "3.7.6"
    },
    "accelerator": "GPU"
  },
  "cells": [
    {
      "cell_type": "markdown",
      "metadata": {
        "id": "view-in-github",
        "colab_type": "text"
      },
      "source": [
        "<a href=\"https://colab.research.google.com/github/jensullrich/DataScienceSS20/blob/ex7/Exercises/7_b_CNNs.ipynb\" target=\"_parent\"><img src=\"https://colab.research.google.com/assets/colab-badge.svg\" alt=\"Open In Colab\"/></a>"
      ]
    },
    {
      "cell_type": "markdown",
      "metadata": {
        "colab_type": "text",
        "id": "9qYJcxpwEyxC"
      },
      "source": [
        ""
      ]
    },
    {
      "cell_type": "markdown",
      "metadata": {
        "colab_type": "text",
        "id": "NgYV9F8IE2L_"
      },
      "source": [
        "# Exercise 2 - Image Classification with CNNs\n",
        "![CIFAR10](https://miro.medium.com/max/964/1*syyml8q8s1Yt-iEea5m1Ag.png)\n",
        "\n",
        "[CIFAR 10](https://www.cs.toronto.edu/~kriz/cifar.html) is a small toy data set for image classifaction. \n",
        "\n",
        "* It has 60k images from ten diffenrent classes (like car, airplane, horse,..)\n",
        "* The RGB images are of size 32x32 pixels  "
      ]
    },
    {
      "cell_type": "code",
      "metadata": {
        "colab_type": "code",
        "id": "GiDFXXcUEy-G",
        "outputId": "819bc48a-0d13-4474-fe9d-e5a210a76d52",
        "colab": {
          "base_uri": "https://localhost:8080/",
          "height": 68
        }
      },
      "source": [
        "#import needed libs\n",
        "from __future__ import print_function\n",
        "import keras\n",
        "from keras.datasets import cifar10\n",
        "from keras.preprocessing.image import ImageDataGenerator\n",
        "from keras.models import Sequential\n",
        "from keras.layers import Dense, Dropout, Activation, Flatten\n",
        "from keras.layers import Conv2D, MaxPooling2D\n",
        "from keras.layers.normalization import BatchNormalization\n",
        "import os\n",
        "\n",
        "#some vars to controll the training -> use them in your code\n",
        "batch_size = 64\n",
        "num_classes = 10 #fixed!\n",
        "epochs = 15\n",
        "\n",
        "# Get the data, split between train and test sets:\n",
        "(x_train, y_train), (x_test, y_test) = cifar10.load_data()\n",
        "print('x_train shape:', x_train.shape)\n",
        "print(x_train.shape[0], 'train samples')\n",
        "print(x_test.shape[0], 'test samples')\n",
        "\n",
        "# Convert class vectors to binary class matrices.\n",
        "y_train = keras.utils.to_categorical(y_train, num_classes)\n",
        "y_test = keras.utils.to_categorical(y_test, num_classes)"
      ],
      "execution_count": 25,
      "outputs": [
        {
          "output_type": "stream",
          "text": [
            "x_train shape: (50000, 32, 32, 3)\n",
            "50000 train samples\n",
            "10000 test samples\n"
          ],
          "name": "stdout"
        }
      ]
    },
    {
      "cell_type": "markdown",
      "metadata": {
        "colab_type": "text",
        "id": "vmocaCkIGOIR"
      },
      "source": [
        "## Task:\n",
        "* build and train the ***AlexNet*** CNN architecture from the lecture\n",
        "* use 'relu' functions for the non-linear activation\n",
        "* optimize the learning hyper-paramters to get the best  test accuracy"
      ]
    },
    {
      "cell_type": "code",
      "metadata": {
        "colab_type": "code",
        "id": "9p5AD8mJEzmL",
        "colab": {
          "base_uri": "https://localhost:8080/",
          "height": 1000
        },
        "outputId": "71270b7c-135d-4b3b-c2cd-7557de6f79e9"
      },
      "source": [
        "# build model\n",
        "#Instantiate an empty model\n",
        "model = Sequential()\n",
        "\n",
        "# 1st Convolutional Layer\n",
        "model.add(Conv2D(filters=48, input_shape=(32,32,3), kernel_size=(3, 3),\\\n",
        " strides=(4,4), padding='same'))\n",
        "model.add(Activation('relu'))\n",
        "# Pooling \n",
        "model.add(MaxPooling2D(pool_size=(3,3), strides=(2,2), padding='same'))\n",
        "model.add(BatchNormalization())\n",
        "\n",
        "# 2nd Convolutional Layer\n",
        "model.add(Conv2D(filters=128, kernel_size=(3,3), strides=(1,1), padding='same'))\n",
        "model.add(Activation('relu'))\n",
        "# Pooling\n",
        "model.add(MaxPooling2D(pool_size=(2,2), strides=(2,2), padding='same'))\n",
        "model.add(BatchNormalization())\n",
        "\n",
        "# 3rd Convolutional Layer\n",
        "model.add(Conv2D(filters=192, kernel_size=(3,3), strides=(1,1), padding='same'))\n",
        "model.add(Activation('relu'))\n",
        "\n",
        "# 4th Convolutional Layer\n",
        "model.add(Conv2D(filters=192, kernel_size=(3,3), strides=(1,1), padding='same'))\n",
        "model.add(Activation('relu'))\n",
        "\n",
        "# 5th Convolutional Layer\n",
        "model.add(Conv2D(filters=128, kernel_size=(3,3), strides=(1,1), padding='same'))\n",
        "model.add(Activation('relu'))\n",
        "# Pooling\n",
        "model.add(MaxPooling2D(pool_size=(2,2), strides=(2,2), padding='same'))\n",
        "model.add(BatchNormalization())\n",
        "\n",
        "# Passing it to a dense layer\n",
        "model.add(Flatten())\n",
        "# 1st Dense Layer\n",
        "model.add(Dense(1024, input_shape=(32*32*3,)))\n",
        "model.add(Activation('relu'))\n",
        "# Add Dropout to prevent overfitting\n",
        "model.add(Dropout(0.4))\n",
        "\n",
        "# 2nd Dense Layer\n",
        "model.add(Dense(1024))\n",
        "model.add(Activation('relu'))\n",
        "# Add Dropout\n",
        "model.add(Dropout(0.4))\n",
        "\n",
        "# 3rd Dense Layer\n",
        "model.add(Dense(512))\n",
        "model.add(Activation('relu'))\n",
        "# Add Dropout\n",
        "model.add(Dropout(0.4))\n",
        "\n",
        "# Output Layer\n",
        "model.add(Dense(num_classes))\n",
        "model.add(Activation('softmax'))\n",
        "\n",
        "opt = keras.optimizers.RMSprop(learning_rate=0.0001, decay=1e-6)\n",
        "\n",
        "model.compile(loss='categorical_crossentropy',\n",
        "              optimizer=opt,\n",
        "              metrics=['accuracy'])\n",
        "\n",
        "model.summary()"
      ],
      "execution_count": 26,
      "outputs": [
        {
          "output_type": "stream",
          "text": [
            "Model: \"sequential_8\"\n",
            "_________________________________________________________________\n",
            "Layer (type)                 Output Shape              Param #   \n",
            "=================================================================\n",
            "conv2d_36 (Conv2D)           (None, 8, 8, 48)          1344      \n",
            "_________________________________________________________________\n",
            "activation_64 (Activation)   (None, 8, 8, 48)          0         \n",
            "_________________________________________________________________\n",
            "max_pooling2d_22 (MaxPooling (None, 4, 4, 48)          0         \n",
            "_________________________________________________________________\n",
            "batch_normalization_4 (Batch (None, 4, 4, 48)          192       \n",
            "_________________________________________________________________\n",
            "conv2d_37 (Conv2D)           (None, 4, 4, 128)         55424     \n",
            "_________________________________________________________________\n",
            "activation_65 (Activation)   (None, 4, 4, 128)         0         \n",
            "_________________________________________________________________\n",
            "max_pooling2d_23 (MaxPooling (None, 2, 2, 128)         0         \n",
            "_________________________________________________________________\n",
            "batch_normalization_5 (Batch (None, 2, 2, 128)         512       \n",
            "_________________________________________________________________\n",
            "conv2d_38 (Conv2D)           (None, 2, 2, 192)         221376    \n",
            "_________________________________________________________________\n",
            "activation_66 (Activation)   (None, 2, 2, 192)         0         \n",
            "_________________________________________________________________\n",
            "conv2d_39 (Conv2D)           (None, 2, 2, 192)         331968    \n",
            "_________________________________________________________________\n",
            "activation_67 (Activation)   (None, 2, 2, 192)         0         \n",
            "_________________________________________________________________\n",
            "conv2d_40 (Conv2D)           (None, 2, 2, 128)         221312    \n",
            "_________________________________________________________________\n",
            "activation_68 (Activation)   (None, 2, 2, 128)         0         \n",
            "_________________________________________________________________\n",
            "max_pooling2d_24 (MaxPooling (None, 1, 1, 128)         0         \n",
            "_________________________________________________________________\n",
            "batch_normalization_6 (Batch (None, 1, 1, 128)         512       \n",
            "_________________________________________________________________\n",
            "flatten_8 (Flatten)          (None, 128)               0         \n",
            "_________________________________________________________________\n",
            "dense_29 (Dense)             (None, 1024)              132096    \n",
            "_________________________________________________________________\n",
            "activation_69 (Activation)   (None, 1024)              0         \n",
            "_________________________________________________________________\n",
            "dropout_22 (Dropout)         (None, 1024)              0         \n",
            "_________________________________________________________________\n",
            "dense_30 (Dense)             (None, 1024)              1049600   \n",
            "_________________________________________________________________\n",
            "activation_70 (Activation)   (None, 1024)              0         \n",
            "_________________________________________________________________\n",
            "dropout_23 (Dropout)         (None, 1024)              0         \n",
            "_________________________________________________________________\n",
            "dense_31 (Dense)             (None, 512)               524800    \n",
            "_________________________________________________________________\n",
            "activation_71 (Activation)   (None, 512)               0         \n",
            "_________________________________________________________________\n",
            "dropout_24 (Dropout)         (None, 512)               0         \n",
            "_________________________________________________________________\n",
            "dense_32 (Dense)             (None, 10)                5130      \n",
            "_________________________________________________________________\n",
            "activation_72 (Activation)   (None, 10)                0         \n",
            "=================================================================\n",
            "Total params: 2,544,266\n",
            "Trainable params: 2,543,658\n",
            "Non-trainable params: 608\n",
            "_________________________________________________________________\n"
          ],
          "name": "stdout"
        }
      ]
    },
    {
      "cell_type": "code",
      "metadata": {
        "id": "AbbNsuA0XTm5",
        "colab_type": "code",
        "colab": {
          "base_uri": "https://localhost:8080/",
          "height": 544
        },
        "outputId": "9e820d47-7b62-4d61-9809-fabf0836a90e"
      },
      "source": [
        "#pre-processing: normalize data\n",
        "x_train = x_train.astype('float32')\n",
        "x_test = x_test.astype('float32')\n",
        "x_train /= 255\n",
        "x_test /= 255\n",
        "#train model\n",
        "model.fit(x_train, y_train,\n",
        "              batch_size=batch_size,\n",
        "              epochs=epochs,\n",
        "              shuffle=True)"
      ],
      "execution_count": 27,
      "outputs": [
        {
          "output_type": "stream",
          "text": [
            "Epoch 1/15\n",
            "50000/50000 [==============================] - 21s 422us/step - loss: 1.7243 - accuracy: 0.3665\n",
            "Epoch 2/15\n",
            "50000/50000 [==============================] - 21s 410us/step - loss: 1.4013 - accuracy: 0.4976\n",
            "Epoch 3/15\n",
            "50000/50000 [==============================] - 20s 406us/step - loss: 1.2584 - accuracy: 0.5535\n",
            "Epoch 4/15\n",
            "50000/50000 [==============================] - 21s 411us/step - loss: 1.1474 - accuracy: 0.5950\n",
            "Epoch 5/15\n",
            "50000/50000 [==============================] - 20s 407us/step - loss: 1.0495 - accuracy: 0.6296\n",
            "Epoch 6/15\n",
            "50000/50000 [==============================] - 21s 411us/step - loss: 0.9498 - accuracy: 0.6672\n",
            "Epoch 7/15\n",
            "50000/50000 [==============================] - 21s 411us/step - loss: 0.8584 - accuracy: 0.7008\n",
            "Epoch 8/15\n",
            "50000/50000 [==============================] - 20s 410us/step - loss: 0.7619 - accuracy: 0.7341\n",
            "Epoch 9/15\n",
            "50000/50000 [==============================] - 20s 407us/step - loss: 0.6791 - accuracy: 0.7645\n",
            "Epoch 10/15\n",
            "50000/50000 [==============================] - 20s 406us/step - loss: 0.5957 - accuracy: 0.7942\n",
            "Epoch 11/15\n",
            "50000/50000 [==============================] - 20s 407us/step - loss: 0.5279 - accuracy: 0.8178\n",
            "Epoch 12/15\n",
            "50000/50000 [==============================] - 20s 407us/step - loss: 0.4631 - accuracy: 0.8413\n",
            "Epoch 13/15\n",
            "50000/50000 [==============================] - 20s 407us/step - loss: 0.4158 - accuracy: 0.8569\n",
            "Epoch 14/15\n",
            "50000/50000 [==============================] - 20s 408us/step - loss: 0.3751 - accuracy: 0.8723\n",
            "Epoch 15/15\n",
            "50000/50000 [==============================] - 20s 406us/step - loss: 0.3396 - accuracy: 0.8870\n"
          ],
          "name": "stdout"
        },
        {
          "output_type": "execute_result",
          "data": {
            "text/plain": [
              "<keras.callbacks.callbacks.History at 0x7f326c9ce710>"
            ]
          },
          "metadata": {
            "tags": []
          },
          "execution_count": 27
        }
      ]
    },
    {
      "cell_type": "code",
      "metadata": {
        "id": "qdhm44T0daYb",
        "colab_type": "code",
        "colab": {
          "base_uri": "https://localhost:8080/",
          "height": 68
        },
        "outputId": "ef85ed68-d129-4fe0-b897-1e82d823b4ac"
      },
      "source": [
        "#Evaluation\n",
        "scores = model.evaluate(x_test, y_test, verbose=1)\n",
        "print('Test loss:', scores[0])\n",
        "print('Test accuracy:', scores[1])"
      ],
      "execution_count": 28,
      "outputs": [
        {
          "output_type": "stream",
          "text": [
            "10000/10000 [==============================] - 2s 224us/step\n",
            "Test loss: 2.039508597946167\n",
            "Test accuracy: 0.5540000200271606\n"
          ],
          "name": "stdout"
        }
      ]
    }
  ]
}