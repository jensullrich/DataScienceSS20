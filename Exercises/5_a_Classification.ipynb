{
 "cells": [
  {
   "cell_type": "markdown",
   "metadata": {},
   "source": [
    "# Block 5 Exercise 1: Classification"
   ]
  },
  {
   "cell_type": "markdown",
   "metadata": {},
   "source": [
    "## MNIST Data\n",
    "In these exercises we are using the MNIST data set on handwritten digits to compare supervised classification algorithms...   "
   ]
  },
  {
   "cell_type": "code",
   "execution_count": 55,
   "metadata": {},
   "outputs": [],
   "source": [
    "#imports \n",
    "import matplotlib.pyplot as plt\n",
    "import numpy as np\n",
    "from sklearn.datasets import fetch_openml"
   ]
  },
  {
   "cell_type": "code",
   "execution_count": 56,
   "metadata": {},
   "outputs": [],
   "source": [
    "# Load data from https://www.openml.org/d/554\n",
    "X, y = fetch_openml('mnist_784', version=1, return_X_y=True)\n"
   ]
  },
  {
   "cell_type": "code",
   "execution_count": 57,
   "metadata": {},
   "outputs": [
    {
     "data": {
      "text/plain": [
       "(70000, 784)"
      ]
     },
     "execution_count": 57,
     "metadata": {},
     "output_type": "execute_result"
    }
   ],
   "source": [
    "#the full MNIST data set contains 70k samples of digits 0-9 as 28*28 gray scale images (represented as 784 dim vectors)\n",
    "np.shape(X)"
   ]
  },
  {
   "cell_type": "markdown",
   "metadata": {},
   "source": [
    "### E1.1: Use SkLearn methods to split the MNIST data into random train and test sets. Use 60k samples for training.  \n"
   ]
  },
  {
   "cell_type": "code",
   "execution_count": 58,
   "metadata": {},
   "outputs": [],
   "source": [
    "from sklearn.model_selection import train_test_split\n",
    "X_train, X_test, y_train, y_test = train_test_split(X, y, test_size=1/7)"
   ]
  },
  {
   "cell_type": "markdown",
   "metadata": {},
   "source": [
    "### E1.2: Visualize the data.\n",
    "* Plot some data samples as images (use https://matplotlib.org/3.1.0/api/_as_gen/matplotlib.pyplot.imshow.html)"
   ]
  },
  {
   "cell_type": "code",
   "execution_count": 59,
   "metadata": {},
   "outputs": [
    {
     "data": {
      "text/plain": [
       "<matplotlib.image.AxesImage at 0x265d95c7148>"
      ]
     },
     "execution_count": 59,
     "metadata": {},
     "output_type": "execute_result"
    },
    {
     "data": {
      "image/png": "[encoded data removed]",
      "text/plain": [
       "<Figure size 432x288 with 1 Axes>"
      ]
     },
     "metadata": {
      "needs_background": "light"
     },
     "output_type": "display_data"
    }
   ],
   "source": [
    "import matplotlib.pyplot as plt\n",
    "%matplotlib inline\n",
    "plt.imshow(np.reshape(X_train[3456,:],(28,28)), cmap='gray')"
   ]
  },
  {
   "cell_type": "markdown",
   "metadata": {},
   "source": [
    "Comment: Some of the Numbers are really hard to read, even for humans"
   ]
  },
  {
   "cell_type": "markdown",
   "metadata": {},
   "source": [
    "### E1.3: Train models on the train data.\n",
    "Train the following models with default parameters on the train data.\n",
    "* [Naive Bayes](https://scikit-learn.org/stable/modules/generated/sklearn.naive_bayes.GaussianNB.html#sklearn.naive_bayes.GaussianNB) (assuming a Gaussian distribution of the data)\n",
    "* [Simple linear model](https://scikit-learn.org/stable/modules/generated/sklearn.linear_model.SGDClassifier.html#sklearn.linear_model.SGDClassifier)\n",
    "   * use ``loss='log'`` to reproduce our logistic loss function \n",
    "* [Random Forest](https://scikit-learn.org/stable/modules/generated/sklearn.ensemble.RandomForestClassifier.html#sklearn.ensemble.RandomForestClassifier)\n",
    "\n",
    "Compare the training accuracy (https://scikit-learn.org/stable/modules/generated/sklearn.metrics.accuracy_score.html#sklearn.metrics.accuracy_score) and [confusion matrix](https://scikit-learn.org/stable/modules/generated/sklearn.metrics.confusion_matrix.html#sklearn.metrics.confusion_matrix) for all three models."
   ]
  },
  {
   "cell_type": "code",
   "execution_count": 60,
   "metadata": {},
   "outputs": [],
   "source": [
    "# import models and metrics from sklearn\n",
    "from sklearn.naive_bayes import GaussianNB\n",
    "from sklearn import linear_model\n",
    "from sklearn.ensemble import RandomForestClassifier\n",
    "from sklearn.metrics import accuracy_score, confusion_matrix, f1_score, roc_curve"
   ]
  },
  {
   "cell_type": "code",
   "execution_count": 61,
   "metadata": {},
   "outputs": [],
   "source": [
    "# initialize models\n",
    "naive_bayes = GaussianNB()\n",
    "simple_linear = linear_model.SGDClassifier(loss='log')\n",
    "random_forest = RandomForestClassifier()"
   ]
  },
  {
   "cell_type": "code",
   "execution_count": 62,
   "metadata": {},
   "outputs": [
    {
     "data": {
      "text/plain": [
       "RandomForestClassifier(bootstrap=True, ccp_alpha=0.0, class_weight=None,\n",
       "                       criterion='gini', max_depth=None, max_features='auto',\n",
       "                       max_leaf_nodes=None, max_samples=None,\n",
       "                       min_impurity_decrease=0.0, min_impurity_split=None,\n",
       "                       min_samples_leaf=1, min_samples_split=2,\n",
       "                       min_weight_fraction_leaf=0.0, n_estimators=100,\n",
       "                       n_jobs=None, oob_score=False, random_state=None,\n",
       "                       verbose=0, warm_start=False)"
      ]
     },
     "execution_count": 62,
     "metadata": {},
     "output_type": "execute_result"
    }
   ],
   "source": [
    "# train models\n",
    "naive_bayes.fit(X_train, y_train)\n",
    "simple_linear.fit(X_train,y_train)\n",
    "random_forest.fit(X_train,y_train)"
   ]
  },
  {
   "cell_type": "code",
   "execution_count": 63,
   "metadata": {},
   "outputs": [
    {
     "name": "stdout",
     "output_type": "stream",
     "text": [
      "0.55945\n",
      "0.8742333333333333\n",
      "1.0\n"
     ]
    }
   ],
   "source": [
    "# compare accuracy score\n",
    "print(accuracy_score(y_train,naive_bayes.predict(X_train)))\n",
    "print(accuracy_score(y_train,simple_linear.predict(X_train)))\n",
    "print(accuracy_score(y_train,random_forest.predict(X_train)))"
   ]
  },
  {
   "cell_type": "code",
   "execution_count": 64,
   "metadata": {},
   "outputs": [
    {
     "name": "stdout",
     "output_type": "stream",
     "text": [
      "[[5407   11   32   18    6   12  169    6  200   95]\n",
      " [   4 6376   15   30    3    9   79    3  163   73]\n",
      " [ 606  163 1687  485   25   23 1485   16 1394   97]\n",
      " [ 377  305   46 2204   10   11  307   40 2186  616]\n",
      " [ 174   36   44   33  922   30  561   20 1236 2785]\n",
      " [ 679  140   29  121   28  235  305    9 3306  562]\n",
      " [  60   97   27    2    4   21 5560    0  126   10]\n",
      " [  26   36    5   61   43    4   21 1809  237 4014]\n",
      " [  96  712   23   48   17   29  102    6 3707 1063]\n",
      " [  31   33   19   11   30    3    2   81  115 5660]] \n",
      "\n",
      "[[5508    1  161   87    3   33   84    5   67    7]\n",
      " [   1 6505  134   35    3   20    9   18   25    5]\n",
      " [   4   11 5721   70   13   20   37   36   60    9]\n",
      " [   2    8  417 5422    1   95    6   39   57   55]\n",
      " [  11   35  521   59 4584   19  107   19  155  331]\n",
      " [  18    8  125  360   13 4522  124   14  160   70]\n",
      " [  15    6  157   10    5   74 5616    4   19    1]\n",
      " [  16   10  258   34   22    9    3 5614   25  265]\n",
      " [  19   94  843  529   11  289   50   21 3862   85]\n",
      " [   9   24  295  180   54   61    2  181   79 5100]] \n",
      "\n",
      "[[5956    0    0    0    0    0    0    0    0    0]\n",
      " [   0 6755    0    0    0    0    0    0    0    0]\n",
      " [   0    0 5981    0    0    0    0    0    0    0]\n",
      " [   0    0    0 6102    0    0    0    0    0    0]\n",
      " [   0    0    0    0 5841    0    0    0    0    0]\n",
      " [   0    0    0    0    0 5414    0    0    0    0]\n",
      " [   0    0    0    0    0    0 5907    0    0    0]\n",
      " [   0    0    0    0    0    0    0 6256    0    0]\n",
      " [   0    0    0    0    0    0    0    0 5803    0]\n",
      " [   0    0    0    0    0    0    0    0    0 5985]] \n",
      "\n"
     ]
    }
   ],
   "source": [
    "# compare confusion matrix\n",
    "print(confusion_matrix(y_train,naive_bayes.predict(X_train)), \"\\n\")\n",
    "print(confusion_matrix(y_train,simple_linear.predict(X_train)), \"\\n\")\n",
    "print(confusion_matrix(y_train,random_forest.predict(X_train)), \"\\n\")\n"
   ]
  },
  {
   "cell_type": "markdown",
   "metadata": {},
   "source": [
    "### E1.4: Evaluate and compare the models on the test set.\n",
    "* compute the test [accuracy](https://scikit-learn.org/stable/modules/generated/sklearn.metrics.accuracy_score.html#sklearn.metrics.accuracy_score) \n",
    "* compute the [F-Measure](https://scikit-learn.org/stable/modules/generated/sklearn.metrics.f1_score.html#sklearn.metrics.f1_score)\n",
    "* plot a [ROC curves](https://scikit-learn.org/stable/modules/generated/sklearn.metrics.roc_curve.html#sklearn.metrics.roc_curve) for the class \"5\" for all three models.\n",
    "                          "
   ]
  },
  {
   "cell_type": "code",
   "execution_count": 65,
   "metadata": {},
   "outputs": [
    {
     "name": "stdout",
     "output_type": "stream",
     "text": [
      "0.552\n",
      "0.8578\n",
      "0.9713\n"
     ]
    }
   ],
   "source": [
    "# compute test accuracy\n",
    "print(accuracy_score(y_test,naive_bayes.predict(X_test)))\n",
    "print(accuracy_score(y_test,simple_linear.predict(X_test)))\n",
    "print(accuracy_score(y_test,random_forest.predict(X_test)))"
   ]
  },
  {
   "cell_type": "code",
   "execution_count": 66,
   "metadata": {},
   "outputs": [
    {
     "name": "stdout",
     "output_type": "stream",
     "text": [
      "0.552\n",
      "0.8578\n",
      "0.9713\n"
     ]
    }
   ],
   "source": [
    "# compute f1 score\n",
    "print(f1_score(y_test,naive_bayes.predict(X_test),average='micro'))\n",
    "print(f1_score(y_test,simple_linear.predict(X_test),average='micro'))\n",
    "print(f1_score(y_test,random_forest.predict(X_test),average='micro'))"
   ]
  },
  {
   "cell_type": "code",
   "execution_count": 67,
   "metadata": {},
   "outputs": [
    {
     "data": {
      "text/plain": [
       "[<matplotlib.lines.Line2D at 0x265a441f7c8>]"
      ]
     },
     "execution_count": 67,
     "metadata": {},
     "output_type": "execute_result"
    },
    {
     "data": {
      "image/png": "[encoded data removed]",
      "text/plain": [
       "<Figure size 432x288 with 1 Axes>"
      ]
     },
     "metadata": {
      "needs_background": "light"
     },
     "output_type": "display_data"
    }
   ],
   "source": [
    "# plot ROC curves\n",
    "y_true_5 = y_test == \"5\"\n",
    "b5 = naive_bayes.predict(X_test) == \"5\"\n",
    "l5 = simple_linear.predict(X_test) == \"5\"\n",
    "r5 = random_forest.predict(X_test) == \"5\"\n",
    "b5_fp, b5_tp, _ = roc_curve(y_true_5, b5)\n",
    "l5_fp, l5_tp, _ = roc_curve(y_true_5, l5)\n",
    "r5_fp, r5_tp, _ = roc_curve(y_true_5, r5)\n",
    "\n",
    "plt.plot(b5_fp, b5_tp)\n",
    "plt.plot(l5_fp, l5_tp)\n",
    "plt.plot(r5_fp, r5_tp)"
   ]
  },
  {
   "cell_type": "code",
   "execution_count": null,
   "metadata": {},
   "outputs": [],
   "source": []
  }
 ],
 "metadata": {
  "kernelspec": {
   "display_name": "Python 3",
   "language": "python",
   "name": "python3"
  },
  "language_info": {
   "codemirror_mode": {
    "name": "ipython",
    "version": 3
   },
   "file_extension": ".py",
   "mimetype": "text/x-python",
   "name": "python",
   "nbconvert_exporter": "python",
   "pygments_lexer": "ipython3",
   "version": "3.7.6"
  }
 },
 "nbformat": 4,
 "nbformat_minor": 4
}
