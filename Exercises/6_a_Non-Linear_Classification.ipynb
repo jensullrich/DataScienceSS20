{
 "cells": [
  {
   "cell_type": "markdown",
   "metadata": {},
   "source": [
    "# Block 6 Exercise 1: Non-Linear Classification"
   ]
  },
  {
   "cell_type": "markdown",
   "metadata": {},
   "source": [
    "## MNIST Data\n",
    "We return to the MNIST data set on handwritten digits to compare non-linear classification algorithms ...   "
   ]
  },
  {
   "cell_type": "code",
   "execution_count": 4,
   "metadata": {},
   "outputs": [],
   "source": [
    "#imports \n",
    "import matplotlib.pyplot as plt\n",
    "import numpy as np\n",
    "from sklearn.datasets import fetch_openml"
   ]
  },
  {
   "cell_type": "code",
   "execution_count": 5,
   "metadata": {},
   "outputs": [],
   "source": [
    "# Load data from https://www.openml.org/d/554\n",
    "X, y = fetch_openml('mnist_784', version=1, return_X_y=True)\n"
   ]
  },
  {
   "cell_type": "code",
   "execution_count": 4,
   "metadata": {},
   "outputs": [
    {
     "data": {
      "text/plain": [
       "(70000, 784)"
      ]
     },
     "execution_count": 4,
     "metadata": {},
     "output_type": "execute_result"
    }
   ],
   "source": [
    "#the full MNIST data set contains 70k samples of digits 0-9 as 28*28 gray scale images (represented as 784 dim vectors)\n",
    "np.shape(X)"
   ]
  },
  {
   "cell_type": "code",
   "execution_count": 5,
   "metadata": {},
   "outputs": [
    {
     "data": {
      "text/plain": [
       "0.0"
      ]
     },
     "execution_count": 5,
     "metadata": {},
     "output_type": "execute_result"
    }
   ],
   "source": [
    "X.min()"
   ]
  },
  {
   "cell_type": "code",
   "execution_count": 6,
   "metadata": {},
   "outputs": [
    {
     "data": {
      "text/plain": [
       "255.0"
      ]
     },
     "execution_count": 6,
     "metadata": {},
     "output_type": "execute_result"
    }
   ],
   "source": [
    "#look at max/min value in the data\n",
    "X.max()"
   ]
  },
  {
   "cell_type": "markdown",
   "metadata": {},
   "source": [
    "### E1.1: Cross-Validation and Support Vector Machines\n",
    "Train and optimize  C-SVM classifier on MNIST (https://scikit-learn.org/stable/modules/generated/sklearn.svm.SVC.html#sklearn.svm.SVC)\n",
    "* use a RBF kernel\n",
    "* use *random search* with cross-validation to find the best settings for *gamma* and *C* (https://scikit-learn.org/stable/modules/generated/sklearn.model_selection.RandomizedSearchCV.html#sklearn.model_selection.RandomizedSearchCV)"
   ]
  },
  {
   "cell_type": "code",
   "execution_count": 7,
   "metadata": {},
   "outputs": [],
   "source": [
    "from sklearn.svm import SVC\n",
    "from sklearn.model_selection import RandomizedSearchCV\n",
    "from sklearn.model_selection import train_test_split"
   ]
  },
  {
   "cell_type": "code",
   "execution_count": 8,
   "metadata": {},
   "outputs": [],
   "source": [
    "# prepare data\n",
    "X_train, X_test, y_train, y_test = train_test_split(X, y)"
   ]
  },
  {
   "cell_type": "code",
   "execution_count": 9,
   "metadata": {},
   "outputs": [
    {
     "data": {
      "text/plain": [
       "SVC(C=1.0, break_ties=False, cache_size=200, class_weight=None, coef0=0.0,\n",
       "    decision_function_shape='ovr', degree=3, gamma='scale', kernel='rbf',\n",
       "    max_iter=-1, probability=False, random_state=None, shrinking=True,\n",
       "    tol=0.001, verbose=False)"
      ]
     },
     "execution_count": 9,
     "metadata": {},
     "output_type": "execute_result"
    }
   ],
   "source": [
    "# train and test SVC with RBF kernel\n",
    "svm = SVC() \n",
    "svm.fit(X_train,y_train)"
   ]
  },
  {
   "cell_type": "code",
   "execution_count": 10,
   "metadata": {},
   "outputs": [
    {
     "data": {
      "text/plain": [
       "0.9801142857142857"
      ]
     },
     "execution_count": 10,
     "metadata": {},
     "output_type": "execute_result"
    }
   ],
   "source": [
    "svm.score(X_test,y_test)"
   ]
  },
  {
   "cell_type": "code",
   "execution_count": 11,
   "metadata": {},
   "outputs": [],
   "source": [
    "# optimization\n",
    "opti_svm = SVC()\n",
    "random_search = RandomizedSearchCV(opti_svm, {'C':[0.5, 1.0, 2.0], 'gamma':['scale', 'auto', 0.5, 1, 2, 5]}, n_jobs=-1)"
   ]
  },
  {
   "cell_type": "code",
   "execution_count": 12,
   "metadata": {},
   "outputs": [],
   "source": [
    "search_results = random_search.fit(X_train[:1000],y_train[:1000]) # takes ages with the whole dataset"
   ]
  },
  {
   "cell_type": "code",
   "execution_count": 13,
   "metadata": {},
   "outputs": [
    {
     "name": "stdout",
     "output_type": "stream",
     "text": [
      "{'gamma': 'scale', 'C': 0.5}\n",
      "0.8859999999999999\n"
     ]
    }
   ],
   "source": [
    "print(search_results.best_params_)\n",
    "print(search_results.best_score_)"
   ]
  },
  {
   "cell_type": "code",
   "execution_count": 14,
   "metadata": {},
   "outputs": [
    {
     "data": {
      "text/plain": [
       "SVC(C=0.5, break_ties=False, cache_size=200, class_weight=None, coef0=0.0,\n",
       "    decision_function_shape='ovr', degree=3, gamma='scale', kernel='rbf',\n",
       "    max_iter=-1, probability=False, random_state=None, shrinking=True,\n",
       "    tol=0.001, verbose=False)"
      ]
     },
     "execution_count": 14,
     "metadata": {},
     "output_type": "execute_result"
    }
   ],
   "source": [
    "#train again with C=0.5\n",
    "svm = SVC(C=0.5)\n",
    "svm.fit(X_train,y_train)"
   ]
  },
  {
   "cell_type": "code",
   "execution_count": 15,
   "metadata": {},
   "outputs": [
    {
     "data": {
      "text/plain": [
       "0.9738285714285714"
      ]
     },
     "execution_count": 15,
     "metadata": {},
     "output_type": "execute_result"
    }
   ],
   "source": [
    "svm.score(X_test,y_test)"
   ]
  },
  {
   "cell_type": "markdown",
   "metadata": {},
   "source": [
    "### E1.2: Pipelines and simple Neural Networks\n",
    "Split the MNIST data into  train- and test-sets and then train and evaluate a simple Multi Layer Perceptron (MLP) network. Since the non-linear activation functions of MLPs are sensitive to the scaling on the input (recall the *sigmoid* function), we need to scale all input values to [0,1] \n",
    "\n",
    "* combine all steps of your training in a SKL pipeline (https://scikit-learn.org/stable/modules/compose.html#pipeline)\n",
    "* use a SKL-scaler to scale the data (https://scikit-learn.org/stable/modules/generated/sklearn.preprocessing.StandardScaler.html)\n",
    "* MLP Parameters: https://scikit-learn.org/stable/modules/generated/sklearn.neural_network.MLPClassifier.html#sklearn.neural_network.MLPClassifier\n",
    "    * use a *SGD* solver\n",
    "    * use *tanh* as activation function\n",
    "    * compare networks with 1, 2 and 3 layers, use different numbers of neurons per layer\n",
    "    * adjust training parameters *alpha* (regularization) and *learning rate* - how sensitive is the model to these parameters?\n",
    "    * Hint: do not change all parameters at the same time, split into several experiments\n",
    "* How hard is it to find the best parameters? How many experiments would you need to find the best parameters?\n",
    "    \n"
   ]
  },
  {
   "cell_type": "code",
   "execution_count": 1,
   "metadata": {},
   "outputs": [],
   "source": [
    "from sklearn.neural_network import MLPClassifier\n",
    "from sklearn.preprocessing import StandardScaler\n",
    "from sklearn.pipeline import make_pipeline"
   ]
  },
  {
   "cell_type": "code",
   "execution_count": 8,
   "metadata": {},
   "outputs": [],
   "source": [
    "# prepare data\n",
    "X_train, X_test, y_train, y_test = train_test_split(X, y)"
   ]
  },
  {
   "cell_type": "code",
   "execution_count": 64,
   "metadata": {},
   "outputs": [],
   "source": [
    "pipeline = make_pipeline(StandardScaler(), MLPClassifier(hidden_layer_sizes=(256,256,256), activation='tanh', solver='sgd', alpha=0.0001, learning_rate='constant', learning_rate_init=0.1, max_iter=300))"
   ]
  },
  {
   "cell_type": "code",
   "execution_count": 65,
   "metadata": {},
   "outputs": [
    {
     "data": {
      "text/plain": [
       "Pipeline(memory=None,\n",
       "         steps=[('standardscaler',\n",
       "                 StandardScaler(copy=True, with_mean=True, with_std=True)),\n",
       "                ('mlpclassifier',\n",
       "                 MLPClassifier(activation='tanh', alpha=0.0001,\n",
       "                               batch_size='auto', beta_1=0.9, beta_2=0.999,\n",
       "                               early_stopping=False, epsilon=1e-08,\n",
       "                               hidden_layer_sizes=(256, 256, 256),\n",
       "                               learning_rate='constant', learning_rate_init=0.1,\n",
       "                               max_fun=15000, max_iter=300, momentum=0.9,\n",
       "                               n_iter_no_change=10, nesterovs_momentum=True,\n",
       "                               power_t=0.5, random_state=None, shuffle=True,\n",
       "                               solver='sgd', tol=0.0001,\n",
       "                               validation_fraction=0.1, verbose=False,\n",
       "                               warm_start=False))],\n",
       "         verbose=False)"
      ]
     },
     "execution_count": 65,
     "metadata": {},
     "output_type": "execute_result"
    }
   ],
   "source": [
    "pipeline.fit(X_train,y_train)\n"
   ]
  },
  {
   "cell_type": "code",
   "execution_count": 66,
   "metadata": {},
   "outputs": [
    {
     "data": {
      "text/plain": [
       "0.9711428571428572"
      ]
     },
     "execution_count": 66,
     "metadata": {},
     "output_type": "execute_result"
    }
   ],
   "source": [
    "pipeline.score(X_test,y_test)"
   ]
  },
  {
   "cell_type": "markdown",
   "metadata": {},
   "source": [
    "As there are so many parameters, it's very hard to find the best ones. Here are some of my trys:\n",
    "\n",
    "MLPClassifier(hidden_layer_sizes=(64), activation='tanh', solver='sgd', alpha=0.0001, learning_rate='constant', learning_rate_init=0.001)\n",
    "\n",
    "Score: 0.9527428571428571\n",
    "\n",
    "MLPClassifier(hidden_layer_sizes=(64), activation='tanh', solver='sgd', alpha=0.001, learning_rate='constant', learning_rate_init=0.001, max_iter=300)\n",
    "\n",
    "Score: 0.9552\n",
    "\n",
    "MLPClassifier(hidden_layer_sizes=(64), activation='tanh', solver='sgd', alpha=0.00001, learning_rate='constant', learning_rate_init=0.001, max_iter=300)\n",
    "\n",
    "Score: 0.9569714285714286\n",
    "\n",
    "* alpha doesn't have a big impact\n",
    "\n",
    "pipeline = make_pipeline(StandardScaler(), MLPClassifier(hidden_layer_sizes=(64,64,64), activation='tanh', solver='sgd', alpha=0.0001, learning_rate='constant', learning_rate_init=0.001, max_iter=300))\n",
    "\n",
    "Score: 0.9529714285714286\n",
    "\n",
    "* more layers don't help\n",
    "\n",
    "MLPClassifier(hidden_layer_sizes=(128,128,128), activation='tanh', solver='sgd', alpha=0.0001, learning_rate='constant', learning_rate_init=0.001, max_iter=300)\n",
    "\n",
    "Score: 0.9592\n",
    "\n",
    "* more neurons help a little\n",
    "\n",
    "MLPClassifier(hidden_layer_sizes=(128,128,128), activation='tanh', solver='sgd', alpha=0.0001, learning_rate='constant', learning_rate_init=0.01, max_iter=300)\n",
    "\n",
    "Score: 0.9613142857142857\n",
    "\n",
    "* higher learning_rate is better\n",
    "\n",
    "MLPClassifier(hidden_layer_sizes=(128,128,128), activation='tanh', solver='sgd', alpha=0.0001, learning_rate='constant', learning_rate_init=0.1, max_iter=300))\n",
    "\n",
    "0.9672571428571428\n",
    "\n",
    "MLPClassifier(hidden_layer_sizes=(128,128,128), activation='tanh', solver='sgd', alpha=0.0001, learning_rate='adaptive', learning_rate_init=0.1, max_iter=300)\n",
    "\n",
    "Score: 0.9672\n",
    "\n",
    "* same result with adaptive learning rate\n",
    "\n",
    "MLPClassifier(hidden_layer_sizes=(128,128,128), activation='tanh', solver='sgd', alpha=0.0001, learning_rate='invscaling', learning_rate_init=0.1, max_iter=300, power_t=0.1)\n",
    "\n",
    "Score: 0.9649714285714286\n",
    "\n",
    "* Best result:\n",
    "MLPClassifier(hidden_layer_sizes=(256,256,256), activation='tanh', solver='sgd', alpha=0.0001, learning_rate='constant', learning_rate_init=0.1, max_iter=300)\n",
    "\n",
    "Score: 0.9711428571428572"
   ]
  },
  {
   "cell_type": "code",
   "execution_count": null,
   "metadata": {},
   "outputs": [],
   "source": []
  }
 ],
 "metadata": {
  "kernelspec": {
   "display_name": "Python 3",
   "language": "python",
   "name": "python3"
  }
 },
 "nbformat": 4,
 "nbformat_minor": 4
}
