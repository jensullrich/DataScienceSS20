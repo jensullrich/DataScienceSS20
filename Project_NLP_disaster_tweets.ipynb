{
  "nbformat": 4,
  "nbformat_minor": 0,
  "metadata": {
    "kernelspec": {
      "display_name": "Python 3",
      "language": "python",
      "name": "python3"
    },
    "language_info": {
      "codemirror_mode": {
        "name": "ipython",
        "version": 3
      },
      "file_extension": ".py",
      "mimetype": "text/x-python",
      "name": "python",
      "nbconvert_exporter": "python",
      "pygments_lexer": "ipython3",
      "version": "3.7.6"
    },
    "colab": {
      "name": "Kopie von Project_NLP_disaster_tweets.ipynb",
      "provenance": [],
      "collapsed_sections": [],
      "toc_visible": true,
      "include_colab_link": true
    },
    "accelerator": "GPU"
  },
  "cells": [
    {
      "cell_type": "markdown",
      "metadata": {
        "id": "view-in-github",
        "colab_type": "text"
      },
      "source": [
        "<a href=\"https://colab.research.google.com/github/jensullrich/DataScienceSS20/blob/Project/Project_NLP_disaster_tweets.ipynb\" target=\"_parent\"><img src=\"https://colab.research.google.com/assets/colab-badge.svg\" alt=\"Open In Colab\"/></a>"
      ]
    },
    {
      "cell_type": "markdown",
      "metadata": {
        "id": "Z3VqmBdVjTha",
        "colab_type": "text"
      },
      "source": [
        "# 1. Setup\n"
      ]
    },
    {
      "cell_type": "markdown",
      "metadata": {
        "id": "MF3ebFyhjl-v",
        "colab_type": "text"
      },
      "source": [
        "## 1.1 Installation"
      ]
    },
    {
      "cell_type": "code",
      "metadata": {
        "id": "dhWwrTl9WhtZ",
        "colab_type": "code",
        "colab": {
          "base_uri": "https://localhost:8080/",
          "height": 1000
        },
        "outputId": "d3590245-62dc-49c8-dda5-cba8be7544b1"
      },
      "source": [
        "!pip install tensorflow\n",
        "!pip install --upgrade tensorflow-hub\n",
        "!pip install bert-for-tf2\n",
        "!pip install sentencepiece"
      ],
      "execution_count": 1,
      "outputs": [
        {
          "output_type": "stream",
          "text": [
            "Requirement already satisfied: tensorflow in /usr/local/lib/python3.6/dist-packages (2.2.0)\n",
            "Requirement already satisfied: gast==0.3.3 in /usr/local/lib/python3.6/dist-packages (from tensorflow) (0.3.3)\n",
            "Requirement already satisfied: protobuf>=3.8.0 in /usr/local/lib/python3.6/dist-packages (from tensorflow) (3.10.0)\n",
            "Requirement already satisfied: termcolor>=1.1.0 in /usr/local/lib/python3.6/dist-packages (from tensorflow) (1.1.0)\n",
            "Requirement already satisfied: wheel>=0.26; python_version >= \"3\" in /usr/local/lib/python3.6/dist-packages (from tensorflow) (0.34.2)\n",
            "Requirement already satisfied: keras-preprocessing>=1.1.0 in /usr/local/lib/python3.6/dist-packages (from tensorflow) (1.1.2)\n",
            "Requirement already satisfied: absl-py>=0.7.0 in /usr/local/lib/python3.6/dist-packages (from tensorflow) (0.9.0)\n",
            "Requirement already satisfied: wrapt>=1.11.1 in /usr/local/lib/python3.6/dist-packages (from tensorflow) (1.12.1)\n",
            "Requirement already satisfied: numpy<2.0,>=1.16.0 in /usr/local/lib/python3.6/dist-packages (from tensorflow) (1.18.5)\n",
            "Requirement already satisfied: opt-einsum>=2.3.2 in /usr/local/lib/python3.6/dist-packages (from tensorflow) (3.2.1)\n",
            "Requirement already satisfied: scipy==1.4.1; python_version >= \"3\" in /usr/local/lib/python3.6/dist-packages (from tensorflow) (1.4.1)\n",
            "Requirement already satisfied: google-pasta>=0.1.8 in /usr/local/lib/python3.6/dist-packages (from tensorflow) (0.2.0)\n",
            "Requirement already satisfied: tensorflow-estimator<2.3.0,>=2.2.0 in /usr/local/lib/python3.6/dist-packages (from tensorflow) (2.2.0)\n",
            "Requirement already satisfied: grpcio>=1.8.6 in /usr/local/lib/python3.6/dist-packages (from tensorflow) (1.30.0)\n",
            "Requirement already satisfied: six>=1.12.0 in /usr/local/lib/python3.6/dist-packages (from tensorflow) (1.12.0)\n",
            "Requirement already satisfied: tensorboard<2.3.0,>=2.2.0 in /usr/local/lib/python3.6/dist-packages (from tensorflow) (2.2.2)\n",
            "Requirement already satisfied: h5py<2.11.0,>=2.10.0 in /usr/local/lib/python3.6/dist-packages (from tensorflow) (2.10.0)\n",
            "Requirement already satisfied: astunparse==1.6.3 in /usr/local/lib/python3.6/dist-packages (from tensorflow) (1.6.3)\n",
            "Requirement already satisfied: setuptools in /usr/local/lib/python3.6/dist-packages (from protobuf>=3.8.0->tensorflow) (47.3.1)\n",
            "Requirement already satisfied: markdown>=2.6.8 in /usr/local/lib/python3.6/dist-packages (from tensorboard<2.3.0,>=2.2.0->tensorflow) (3.2.2)\n",
            "Requirement already satisfied: requests<3,>=2.21.0 in /usr/local/lib/python3.6/dist-packages (from tensorboard<2.3.0,>=2.2.0->tensorflow) (2.23.0)\n",
            "Requirement already satisfied: werkzeug>=0.11.15 in /usr/local/lib/python3.6/dist-packages (from tensorboard<2.3.0,>=2.2.0->tensorflow) (1.0.1)\n",
            "Requirement already satisfied: tensorboard-plugin-wit>=1.6.0 in /usr/local/lib/python3.6/dist-packages (from tensorboard<2.3.0,>=2.2.0->tensorflow) (1.6.0.post3)\n",
            "Requirement already satisfied: google-auth-oauthlib<0.5,>=0.4.1 in /usr/local/lib/python3.6/dist-packages (from tensorboard<2.3.0,>=2.2.0->tensorflow) (0.4.1)\n",
            "Requirement already satisfied: google-auth<2,>=1.6.3 in /usr/local/lib/python3.6/dist-packages (from tensorboard<2.3.0,>=2.2.0->tensorflow) (1.17.2)\n",
            "Requirement already satisfied: importlib-metadata; python_version < \"3.8\" in /usr/local/lib/python3.6/dist-packages (from markdown>=2.6.8->tensorboard<2.3.0,>=2.2.0->tensorflow) (1.6.1)\n",
            "Requirement already satisfied: idna<3,>=2.5 in /usr/local/lib/python3.6/dist-packages (from requests<3,>=2.21.0->tensorboard<2.3.0,>=2.2.0->tensorflow) (2.9)\n",
            "Requirement already satisfied: urllib3!=1.25.0,!=1.25.1,<1.26,>=1.21.1 in /usr/local/lib/python3.6/dist-packages (from requests<3,>=2.21.0->tensorboard<2.3.0,>=2.2.0->tensorflow) (1.24.3)\n",
            "Requirement already satisfied: certifi>=2017.4.17 in /usr/local/lib/python3.6/dist-packages (from requests<3,>=2.21.0->tensorboard<2.3.0,>=2.2.0->tensorflow) (2020.6.20)\n",
            "Requirement already satisfied: chardet<4,>=3.0.2 in /usr/local/lib/python3.6/dist-packages (from requests<3,>=2.21.0->tensorboard<2.3.0,>=2.2.0->tensorflow) (3.0.4)\n",
            "Requirement already satisfied: requests-oauthlib>=0.7.0 in /usr/local/lib/python3.6/dist-packages (from google-auth-oauthlib<0.5,>=0.4.1->tensorboard<2.3.0,>=2.2.0->tensorflow) (1.3.0)\n",
            "Requirement already satisfied: rsa<5,>=3.1.4; python_version >= \"3\" in /usr/local/lib/python3.6/dist-packages (from google-auth<2,>=1.6.3->tensorboard<2.3.0,>=2.2.0->tensorflow) (4.6)\n",
            "Requirement already satisfied: cachetools<5.0,>=2.0.0 in /usr/local/lib/python3.6/dist-packages (from google-auth<2,>=1.6.3->tensorboard<2.3.0,>=2.2.0->tensorflow) (4.1.0)\n",
            "Requirement already satisfied: pyasn1-modules>=0.2.1 in /usr/local/lib/python3.6/dist-packages (from google-auth<2,>=1.6.3->tensorboard<2.3.0,>=2.2.0->tensorflow) (0.2.8)\n",
            "Requirement already satisfied: zipp>=0.5 in /usr/local/lib/python3.6/dist-packages (from importlib-metadata; python_version < \"3.8\"->markdown>=2.6.8->tensorboard<2.3.0,>=2.2.0->tensorflow) (3.1.0)\n",
            "Requirement already satisfied: oauthlib>=3.0.0 in /usr/local/lib/python3.6/dist-packages (from requests-oauthlib>=0.7.0->google-auth-oauthlib<0.5,>=0.4.1->tensorboard<2.3.0,>=2.2.0->tensorflow) (3.1.0)\n",
            "Requirement already satisfied: pyasn1>=0.1.3 in /usr/local/lib/python3.6/dist-packages (from rsa<5,>=3.1.4; python_version >= \"3\"->google-auth<2,>=1.6.3->tensorboard<2.3.0,>=2.2.0->tensorflow) (0.4.8)\n",
            "Requirement already up-to-date: tensorflow-hub in /usr/local/lib/python3.6/dist-packages (0.8.0)\n",
            "Requirement already satisfied, skipping upgrade: protobuf>=3.8.0 in /usr/local/lib/python3.6/dist-packages (from tensorflow-hub) (3.10.0)\n",
            "Requirement already satisfied, skipping upgrade: six>=1.12.0 in /usr/local/lib/python3.6/dist-packages (from tensorflow-hub) (1.12.0)\n",
            "Requirement already satisfied, skipping upgrade: numpy>=1.12.0 in /usr/local/lib/python3.6/dist-packages (from tensorflow-hub) (1.18.5)\n",
            "Requirement already satisfied, skipping upgrade: setuptools in /usr/local/lib/python3.6/dist-packages (from protobuf>=3.8.0->tensorflow-hub) (47.3.1)\n",
            "Collecting bert-for-tf2\n",
            "\u001b[?25l  Downloading https://files.pythonhosted.org/packages/35/5c/6439134ecd17b33fe0396fb0b7d6ce3c5a120c42a4516ba0e9a2d6e43b25/bert-for-tf2-0.14.4.tar.gz (40kB)\n",
            "\u001b[K     |████████████████████████████████| 40kB 1.8MB/s \n",
            "\u001b[?25hCollecting py-params>=0.9.6\n",
            "  Downloading https://files.pythonhosted.org/packages/a4/bf/c1c70d5315a8677310ea10a41cfc41c5970d9b37c31f9c90d4ab98021fd1/py-params-0.9.7.tar.gz\n",
            "Collecting params-flow>=0.8.0\n",
            "  Downloading https://files.pythonhosted.org/packages/a9/95/ff49f5ebd501f142a6f0aaf42bcfd1c192dc54909d1d9eb84ab031d46056/params-flow-0.8.2.tar.gz\n",
            "Requirement already satisfied: numpy in /usr/local/lib/python3.6/dist-packages (from params-flow>=0.8.0->bert-for-tf2) (1.18.5)\n",
            "Requirement already satisfied: tqdm in /usr/local/lib/python3.6/dist-packages (from params-flow>=0.8.0->bert-for-tf2) (4.41.1)\n",
            "Building wheels for collected packages: bert-for-tf2, py-params, params-flow\n",
            "  Building wheel for bert-for-tf2 (setup.py) ... \u001b[?25l\u001b[?25hdone\n",
            "  Created wheel for bert-for-tf2: filename=bert_for_tf2-0.14.4-cp36-none-any.whl size=30114 sha256=45469c71f07c78c800986c66ce5dd8ebff5a1f074a0f566722d5ea4abe4c5c27\n",
            "  Stored in directory: /root/.cache/pip/wheels/cf/3f/4d/79d7735015a5f523648df90d871ce8e89a7df8185f7703eeab\n",
            "  Building wheel for py-params (setup.py) ... \u001b[?25l\u001b[?25hdone\n",
            "  Created wheel for py-params: filename=py_params-0.9.7-cp36-none-any.whl size=7302 sha256=50a4783dba82220dd4192980d22afac49dab6607b2fdf34156329b2f0cf1d7f5\n",
            "  Stored in directory: /root/.cache/pip/wheels/67/f5/19/b461849a50aefdf4bab47c4756596e82ee2118b8278e5a1980\n",
            "  Building wheel for params-flow (setup.py) ... \u001b[?25l\u001b[?25hdone\n",
            "  Created wheel for params-flow: filename=params_flow-0.8.2-cp36-none-any.whl size=19473 sha256=481d016d6ba54a4c9d61d1acafd789d5f2bc5eb38e805b58890a4ca4a9c37f5a\n",
            "  Stored in directory: /root/.cache/pip/wheels/08/c8/7f/81c86b9ff2b86e2c477e3914175be03e679e596067dc630c06\n",
            "Successfully built bert-for-tf2 py-params params-flow\n",
            "Installing collected packages: py-params, params-flow, bert-for-tf2\n",
            "Successfully installed bert-for-tf2-0.14.4 params-flow-0.8.2 py-params-0.9.7\n",
            "Collecting sentencepiece\n",
            "\u001b[?25l  Downloading https://files.pythonhosted.org/packages/d4/a4/d0a884c4300004a78cca907a6ff9a5e9fe4f090f5d95ab341c53d28cbc58/sentencepiece-0.1.91-cp36-cp36m-manylinux1_x86_64.whl (1.1MB)\n",
            "\u001b[K     |████████████████████████████████| 1.1MB 2.8MB/s \n",
            "\u001b[?25hInstalling collected packages: sentencepiece\n",
            "Successfully installed sentencepiece-0.1.91\n"
          ],
          "name": "stdout"
        }
      ]
    },
    {
      "cell_type": "markdown",
      "metadata": {
        "id": "2EDLMQIpjroy",
        "colab_type": "text"
      },
      "source": [
        "## 1.2 Imports"
      ]
    },
    {
      "cell_type": "code",
      "metadata": {
        "id": "LXBtB1X_Whtd",
        "colab_type": "code",
        "colab": {}
      },
      "source": [
        "import sys\n",
        "import numpy as np\n",
        "import pandas as pd\n",
        "import matplotlib.pyplot as plt\n",
        "import tensorflow as tf\n",
        "from tensorflow.keras.layers import Dense, Input, Concatenate, Dropout\n",
        "from tensorflow.keras.optimizers import Adam\n",
        "from tensorflow.keras.models import Model\n",
        "from tensorflow.keras.callbacks import ModelCheckpoint\n",
        "import tensorflow_hub as hub\n",
        "import bert\n",
        "from sklearn.preprocessing import LabelEncoder"
      ],
      "execution_count": 2,
      "outputs": []
    },
    {
      "cell_type": "markdown",
      "metadata": {
        "id": "CLyTrMubj0jZ",
        "colab_type": "text"
      },
      "source": [
        "## 1.3 Cloud"
      ]
    },
    {
      "cell_type": "code",
      "metadata": {
        "id": "wQx9fefhW1DH",
        "colab_type": "code",
        "colab": {
          "base_uri": "https://localhost:8080/",
          "height": 170
        },
        "outputId": "9bc7bf84-3a88-4f35-d158-f0abd41feb76"
      },
      "source": [
        "#check if notebook runs in colab\n",
        "IN_COLAB = 'google.colab' in sys.modules\n",
        "print('running in Colab:',IN_COLAB)\n",
        "path='..'\n",
        "if IN_COLAB:\n",
        "  #in colab, we need to clone the data from the repo\n",
        "  !git clone -b Project https://github.com/jensullrich/DataScienceSS20/\n",
        "  path='DataScienceSS20/Project'"
      ],
      "execution_count": 3,
      "outputs": [
        {
          "output_type": "stream",
          "text": [
            "running in Colab: True\n",
            "Cloning into 'DataScienceSS20'...\n",
            "remote: Enumerating objects: 38, done.\u001b[K\n",
            "remote: Counting objects: 100% (38/38), done.\u001b[K\n",
            "remote: Compressing objects: 100% (36/36), done.\u001b[K\n",
            "remote: Total 743 (delta 19), reused 12 (delta 2), pack-reused 705\u001b[K\n",
            "Receiving objects: 100% (743/743), 133.40 MiB | 13.24 MiB/s, done.\n",
            "Resolving deltas: 100% (334/334), done.\n",
            "Checking out files: 100% (223/223), done.\n"
          ],
          "name": "stdout"
        }
      ]
    },
    {
      "cell_type": "code",
      "metadata": {
        "id": "tFpC-TWQlIhr",
        "colab_type": "code",
        "colab": {
          "base_uri": "https://localhost:8080/",
          "height": 357
        },
        "outputId": "109a1ea7-f2d3-4b51-b789-63302a4232b8"
      },
      "source": [
        "#check out the GPU\n",
        "!nvidia-smi"
      ],
      "execution_count": 4,
      "outputs": [
        {
          "output_type": "stream",
          "text": [
            "Sat Jun 27 23:44:29 2020       \n",
            "+-----------------------------------------------------------------------------+\n",
            "| NVIDIA-SMI 450.36.06    Driver Version: 418.67       CUDA Version: 10.1     |\n",
            "|-------------------------------+----------------------+----------------------+\n",
            "| GPU  Name        Persistence-M| Bus-Id        Disp.A | Volatile Uncorr. ECC |\n",
            "| Fan  Temp  Perf  Pwr:Usage/Cap|         Memory-Usage | GPU-Util  Compute M. |\n",
            "|                               |                      |               MIG M. |\n",
            "|===============================+======================+======================|\n",
            "|   0  Tesla P100-PCIE...  Off  | 00000000:00:04.0 Off |                    0 |\n",
            "| N/A   43C    P0    28W / 250W |      0MiB / 16280MiB |      0%      Default |\n",
            "|                               |                      |                 ERR! |\n",
            "+-------------------------------+----------------------+----------------------+\n",
            "                                                                               \n",
            "+-----------------------------------------------------------------------------+\n",
            "| Processes:                                                                  |\n",
            "|  GPU   GI   CI        PID   Type   Process name                  GPU Memory |\n",
            "|        ID   ID                                                   Usage      |\n",
            "|=============================================================================|\n",
            "|  No running processes found                                                 |\n",
            "+-----------------------------------------------------------------------------+\n"
          ],
          "name": "stdout"
        }
      ]
    },
    {
      "cell_type": "code",
      "metadata": {
        "id": "ZeMtQd0Jt9xt",
        "colab_type": "code",
        "colab": {
          "base_uri": "https://localhost:8080/",
          "height": 187
        },
        "outputId": "080936b8-9e41-4186-9924-4295e5c62150"
      },
      "source": [
        "#TODO REMOVE\n",
        "!pip install gputil\n",
        "\n",
        "import GPUtil as GPU\n",
        "\n",
        "GPUs = GPU.getGPUs()\n",
        "gpu = GPUs[0]\n",
        "\n",
        "def print_GPU_memory():\n",
        "  print(\"GPU RAM Free: {0:.0f}MB | Used: {1:.0f}MB | Util {2:3.0f}% | Total {3:.0f}MB\".format(gpu.memoryFree, gpu.memoryUsed, gpu.memoryUtil*100, gpu.memoryTotal))\n",
        "\n",
        "print_GPU_memory()"
      ],
      "execution_count": 5,
      "outputs": [
        {
          "output_type": "stream",
          "text": [
            "Collecting gputil\n",
            "  Downloading https://files.pythonhosted.org/packages/ed/0e/5c61eedde9f6c87713e89d794f01e378cfd9565847d4576fa627d758c554/GPUtil-1.4.0.tar.gz\n",
            "Building wheels for collected packages: gputil\n",
            "  Building wheel for gputil (setup.py) ... \u001b[?25l\u001b[?25hdone\n",
            "  Created wheel for gputil: filename=GPUtil-1.4.0-cp36-none-any.whl size=7413 sha256=1038ee6e9c5375d692502b2d70558f93c832ec470999834d2324cd7ed03b9fce\n",
            "  Stored in directory: /root/.cache/pip/wheels/3d/77/07/80562de4bb0786e5ea186911a2c831fdd0018bda69beab71fd\n",
            "Successfully built gputil\n",
            "Installing collected packages: gputil\n",
            "Successfully installed gputil-1.4.0\n",
            "GPU RAM Free: 16280MB | Used: 0MB | Util   0% | Total 16280MB\n"
          ],
          "name": "stdout"
        }
      ]
    },
    {
      "cell_type": "markdown",
      "metadata": {
        "id": "CrwkowLQWhtY",
        "colab_type": "text"
      },
      "source": [
        "# 2. Exploring Data"
      ]
    },
    {
      "cell_type": "code",
      "metadata": {
        "id": "Uf7DIuDaWhtf",
        "colab_type": "code",
        "colab": {}
      },
      "source": [
        "# read the given csv files\n",
        "train=pd.read_csv(path + '/DATA/train.csv', index_col='id')\n",
        "test=pd.read_csv(path + '/DATA/test.csv', index_col='id')\n",
        "submission = pd.read_csv(path + '/DATA/sample_submission.csv')"
      ],
      "execution_count": 6,
      "outputs": []
    },
    {
      "cell_type": "code",
      "metadata": {
        "id": "aXV_wFGLWhti",
        "colab_type": "code",
        "colab": {
          "base_uri": "https://localhost:8080/",
          "height": 235
        },
        "outputId": "d55ad553-a162-4a59-a34e-3576b141ef0b"
      },
      "source": [
        "train.head()"
      ],
      "execution_count": 7,
      "outputs": [
        {
          "output_type": "execute_result",
          "data": {
            "text/html": [
              "<div>\n",
              "<style scoped>\n",
              "    .dataframe tbody tr th:only-of-type {\n",
              "        vertical-align: middle;\n",
              "    }\n",
              "\n",
              "    .dataframe tbody tr th {\n",
              "        vertical-align: top;\n",
              "    }\n",
              "\n",
              "    .dataframe thead th {\n",
              "        text-align: right;\n",
              "    }\n",
              "</style>\n",
              "<table border=\"1\" class=\"dataframe\">\n",
              "  <thead>\n",
              "    <tr style=\"text-align: right;\">\n",
              "      <th></th>\n",
              "      <th>keyword</th>\n",
              "      <th>location</th>\n",
              "      <th>text</th>\n",
              "      <th>target</th>\n",
              "    </tr>\n",
              "    <tr>\n",
              "      <th>id</th>\n",
              "      <th></th>\n",
              "      <th></th>\n",
              "      <th></th>\n",
              "      <th></th>\n",
              "    </tr>\n",
              "  </thead>\n",
              "  <tbody>\n",
              "    <tr>\n",
              "      <th>1</th>\n",
              "      <td>NaN</td>\n",
              "      <td>NaN</td>\n",
              "      <td>Our Deeds are the Reason of this #earthquake M...</td>\n",
              "      <td>1</td>\n",
              "    </tr>\n",
              "    <tr>\n",
              "      <th>4</th>\n",
              "      <td>NaN</td>\n",
              "      <td>NaN</td>\n",
              "      <td>Forest fire near La Ronge Sask. Canada</td>\n",
              "      <td>1</td>\n",
              "    </tr>\n",
              "    <tr>\n",
              "      <th>5</th>\n",
              "      <td>NaN</td>\n",
              "      <td>NaN</td>\n",
              "      <td>All residents asked to 'shelter in place' are ...</td>\n",
              "      <td>1</td>\n",
              "    </tr>\n",
              "    <tr>\n",
              "      <th>6</th>\n",
              "      <td>NaN</td>\n",
              "      <td>NaN</td>\n",
              "      <td>13,000 people receive #wildfires evacuation or...</td>\n",
              "      <td>1</td>\n",
              "    </tr>\n",
              "    <tr>\n",
              "      <th>7</th>\n",
              "      <td>NaN</td>\n",
              "      <td>NaN</td>\n",
              "      <td>Just got sent this photo from Ruby #Alaska as ...</td>\n",
              "      <td>1</td>\n",
              "    </tr>\n",
              "  </tbody>\n",
              "</table>\n",
              "</div>"
            ],
            "text/plain": [
              "   keyword location                                               text  target\n",
              "id                                                                            \n",
              "1      NaN      NaN  Our Deeds are the Reason of this #earthquake M...       1\n",
              "4      NaN      NaN             Forest fire near La Ronge Sask. Canada       1\n",
              "5      NaN      NaN  All residents asked to 'shelter in place' are ...       1\n",
              "6      NaN      NaN  13,000 people receive #wildfires evacuation or...       1\n",
              "7      NaN      NaN  Just got sent this photo from Ruby #Alaska as ...       1"
            ]
          },
          "metadata": {
            "tags": []
          },
          "execution_count": 7
        }
      ]
    },
    {
      "cell_type": "markdown",
      "metadata": {
        "id": "A-LasmpKWhtk",
        "colab_type": "text"
      },
      "source": [
        "## 2.1 NaN Values"
      ]
    },
    {
      "cell_type": "markdown",
      "metadata": {
        "id": "Em3DRgAKmK-l",
        "colab_type": "text"
      },
      "source": [
        "Laut Beschreibung können sowohl keyword, als auch location fehlen. Es wird also zunächst untersucht wie viele Werte fehlen."
      ]
    },
    {
      "cell_type": "code",
      "metadata": {
        "id": "3CO1zyVqWhtl",
        "colab_type": "code",
        "colab": {
          "base_uri": "https://localhost:8080/",
          "height": 85
        },
        "outputId": "a449c1c0-412d-423b-f46d-504d584efbfb"
      },
      "source": [
        "training_has_keyword = train[\"keyword\"].notna().value_counts(normalize=True)\n",
        "training_has_location = train[\"location\"].notna().value_counts(normalize=True)\n",
        "test_has_keyword = test[\"keyword\"].notna().value_counts(normalize=True)\n",
        "test_has_location = test[\"location\"].notna().value_counts(normalize=True)\n",
        "\n",
        "try:\n",
        "    print(f'{training_has_keyword[True]*100:.1f}', \"% of training data have keyword,\", f'{(training_has_keyword[False])*100:.1f}', \"% of keywords are missing\")\n",
        "    print(f'{training_has_location[True]*100:.1f}', \"% of training data have location,\", f'{(training_has_location[False])*100:.1f}', \"% of locations are missing\")\n",
        "    print(f'{test_has_keyword[True]*100:.1f}', \"% of test data have keyword,\", f'{(test_has_keyword[False])*100:.1f}', \"% of keywords are missing\")\n",
        "    print(f'{test_has_location[True]*100:.1f}', \"% of test data have location,\", f'{(test_has_location[False])*100:.1f}', \"% of locations are missing\")\n",
        "except KeyError:\n",
        "    print(\"No NaN values or they have already been replaced\")"
      ],
      "execution_count": 8,
      "outputs": [
        {
          "output_type": "stream",
          "text": [
            "99.2 % of training data have keyword, 0.8 % of keywords are missing\n",
            "66.7 % of training data have location, 33.3 % of locations are missing\n",
            "99.2 % of test data have keyword, 0.8 % of keywords are missing\n",
            "66.1 % of test data have location, 33.9 % of locations are missing\n"
          ],
          "name": "stdout"
        }
      ]
    },
    {
      "cell_type": "markdown",
      "metadata": {
        "id": "YHZ6Ef6Fm2f4",
        "colab_type": "text"
      },
      "source": [
        "Die fehlenden Werte bekommen die aussagekräftigeren Einträge 'missing_keyword' bzw. 'missing_location'."
      ]
    },
    {
      "cell_type": "code",
      "metadata": {
        "id": "CELx-VjZWhtn",
        "colab_type": "code",
        "colab": {
          "base_uri": "https://localhost:8080/",
          "height": 34
        },
        "outputId": "04e8e3c4-3a83-4e24-9f00-ebf06b132f83"
      },
      "source": [
        "print(\"Replacing NaN values with missing_keyword and missing_location\")\n",
        "train[\"keyword\"] = train[\"keyword\"].fillna('missing_keyword')\n",
        "train[\"location\"] = train[\"location\"].fillna('missing_location')\n",
        "test[\"keyword\"] = test[\"keyword\"].fillna('missing_keyword')\n",
        "test[\"location\"] = test[\"location\"].fillna('missing_location')"
      ],
      "execution_count": 9,
      "outputs": [
        {
          "output_type": "stream",
          "text": [
            "Replacing NaN values with missing_keyword and missing_location\n"
          ],
          "name": "stdout"
        }
      ]
    },
    {
      "cell_type": "markdown",
      "metadata": {
        "id": "IZJpW-e0Whtp",
        "colab_type": "text"
      },
      "source": [
        "## 2.2 Duplicate Values"
      ]
    },
    {
      "cell_type": "code",
      "metadata": {
        "id": "9t60FUDpWhtq",
        "colab_type": "code",
        "colab": {
          "base_uri": "https://localhost:8080/",
          "height": 34
        },
        "outputId": "931c2c2b-4faa-41a1-8b33-c9c20f169953"
      },
      "source": [
        "duplicates = train[train.duplicated()]\n",
        "# remove complete duplicates, keep only the first occurence\n",
        "train.drop_duplicates(keep='first', inplace=True)\n",
        "# check other duplicates\n",
        "train.drop_duplicates('text', keep='False', inplace=True)\n",
        "duplicates = train[train.duplicated(['text'], keep=False)]\n",
        "duplicates.shape\n"
      ],
      "execution_count": 10,
      "outputs": [
        {
          "output_type": "execute_result",
          "data": {
            "text/plain": [
              "(0, 4)"
            ]
          },
          "metadata": {
            "tags": []
          },
          "execution_count": 10
        }
      ]
    },
    {
      "cell_type": "markdown",
      "metadata": {
        "id": "GViHqonsWhts",
        "colab_type": "text"
      },
      "source": [
        "## 2.3 Exploration of keyword and location"
      ]
    },
    {
      "cell_type": "code",
      "metadata": {
        "id": "ZTIIdk0hWhtt",
        "colab_type": "code",
        "colab": {
          "base_uri": "https://localhost:8080/",
          "height": 51
        },
        "outputId": "862ec7c4-ccc2-45b2-e913-93ae6299aa90"
      },
      "source": [
        "print(\"We have\", len(train[\"keyword\"]), \"tweets with\", train[\"keyword\"].nunique(), \"unique keywords.\")\n",
        "print(\"We have\", len(train[\"location\"]), \"tweets with\", train[\"location\"].nunique(), \"unique locations.\")"
      ],
      "execution_count": 11,
      "outputs": [
        {
          "output_type": "stream",
          "text": [
            "We have 7503 tweets with 222 unique keywords.\n",
            "We have 7503 tweets with 3328 unique locations.\n"
          ],
          "name": "stdout"
        }
      ]
    },
    {
      "cell_type": "code",
      "metadata": {
        "id": "5M2Bi9ZuWhtv",
        "colab_type": "code",
        "colab": {
          "base_uri": "https://localhost:8080/",
          "height": 221
        },
        "outputId": "edead5f9-f345-40b0-d1bb-d7df482f0941"
      },
      "source": [
        "grouped = train.groupby(train[\"keyword\"])\n",
        "grouped.size().sort_values()\n",
        "\n",
        "grouped = train.groupby(train[\"location\"])\n",
        "grouped.target.sum().sort_values(ascending=False).head(10)"
      ],
      "execution_count": 12,
      "outputs": [
        {
          "output_type": "execute_result",
          "data": {
            "text/plain": [
              "location\n",
              "missing_location    1044\n",
              "USA                   67\n",
              "United States         27\n",
              "Mumbai                18\n",
              "India                 17\n",
              "Nigeria               17\n",
              "London                16\n",
              "New York              16\n",
              "UK                    15\n",
              "Washington, DC        15\n",
              "Name: target, dtype: int64"
            ]
          },
          "metadata": {
            "tags": []
          },
          "execution_count": 12
        }
      ]
    },
    {
      "cell_type": "markdown",
      "metadata": {
        "id": "RzaVzysnoKXS",
        "colab_type": "text"
      },
      "source": [
        "## 2.4 Meta Features"
      ]
    },
    {
      "cell_type": "code",
      "metadata": {
        "id": "IBeJby5fqMmW",
        "colab_type": "code",
        "colab": {}
      },
      "source": [
        "# word_count\n",
        "train['word_count'] = train['text'].apply(lambda x: len(str(x).split()))\n",
        "test['word_count'] = test['text'].apply(lambda x: len(str(x).split()))\n",
        "\n",
        "# unique_word_count\n",
        "train['unique_word_count'] = train['text'].apply(lambda x: len(set(str(x).split())))\n",
        "test['unique_word_count'] = test['text'].apply(lambda x: len(set(str(x).split())))\n",
        "\n",
        "# url_count\n",
        "train['url_count'] = train['text'].apply(lambda x: len([w for w in str(x).lower().split() if 'http' in w or 'https' in w]))\n",
        "test['url_count'] = test['text'].apply(lambda x: len([w for w in str(x).lower().split() if 'http' in w or 'https' in w]))\n",
        "\n",
        "# mean_word_length\n",
        "train['mean_word_length'] = train['text'].apply(lambda x: np.mean([len(w) for w in str(x).split()]))\n",
        "test['mean_word_length'] = test['text'].apply(lambda x: np.mean([len(w) for w in str(x).split()]))\n",
        "\n",
        "# char_count\n",
        "train['char_count'] = train['text'].apply(lambda x: len(str(x)))\n",
        "test['char_count'] = test['text'].apply(lambda x: len(str(x)))\n",
        "\n",
        "# hashtag_count\n",
        "train['hashtag_count'] = train['text'].apply(lambda x: len([c for c in str(x) if c == '#']))\n",
        "test['hashtag_count'] = test['text'].apply(lambda x: len([c for c in str(x) if c == '#']))\n",
        "\n",
        "# mention_count\n",
        "train['mention_count'] = train['text'].apply(lambda x: len([c for c in str(x) if c == '@']))\n",
        "test['mention_count'] = test['text'].apply(lambda x: len([c for c in str(x) if c == '@']))\n",
        "\n",
        "# keyword target mean\n",
        "train['keyword_target_mean'] = train.groupby('keyword')['target'].transform('mean')\n",
        "test['keyword_target_mean'] = test['keyword'].apply(lambda x: train.loc[train['keyword'] == x, 'keyword_target_mean'].iloc[0])"
      ],
      "execution_count": 13,
      "outputs": []
    },
    {
      "cell_type": "code",
      "metadata": {
        "id": "rF9rT9cyoP6V",
        "colab_type": "code",
        "colab": {
          "base_uri": "https://localhost:8080/",
          "height": 390
        },
        "outputId": "45cb1120-c9b7-443a-de4c-ca08b1f4f053"
      },
      "source": [
        "train.sort_values(by='keyword_target_mean', ascending=False).head(10)\n",
        "#test.sort_values(by='keyword_target_mean', ascending=False).head(10)"
      ],
      "execution_count": 14,
      "outputs": [
        {
          "output_type": "execute_result",
          "data": {
            "text/html": [
              "<div>\n",
              "<style scoped>\n",
              "    .dataframe tbody tr th:only-of-type {\n",
              "        vertical-align: middle;\n",
              "    }\n",
              "\n",
              "    .dataframe tbody tr th {\n",
              "        vertical-align: top;\n",
              "    }\n",
              "\n",
              "    .dataframe thead th {\n",
              "        text-align: right;\n",
              "    }\n",
              "</style>\n",
              "<table border=\"1\" class=\"dataframe\">\n",
              "  <thead>\n",
              "    <tr style=\"text-align: right;\">\n",
              "      <th></th>\n",
              "      <th>keyword</th>\n",
              "      <th>location</th>\n",
              "      <th>text</th>\n",
              "      <th>target</th>\n",
              "      <th>word_count</th>\n",
              "      <th>unique_word_count</th>\n",
              "      <th>url_count</th>\n",
              "      <th>mean_word_length</th>\n",
              "      <th>char_count</th>\n",
              "      <th>hashtag_count</th>\n",
              "      <th>mention_count</th>\n",
              "      <th>keyword_target_mean</th>\n",
              "    </tr>\n",
              "    <tr>\n",
              "      <th>id</th>\n",
              "      <th></th>\n",
              "      <th></th>\n",
              "      <th></th>\n",
              "      <th></th>\n",
              "      <th></th>\n",
              "      <th></th>\n",
              "      <th></th>\n",
              "      <th></th>\n",
              "      <th></th>\n",
              "      <th></th>\n",
              "      <th></th>\n",
              "      <th></th>\n",
              "    </tr>\n",
              "  </thead>\n",
              "  <tbody>\n",
              "    <tr>\n",
              "      <th>3537</th>\n",
              "      <td>derailment</td>\n",
              "      <td>Chicago, IL</td>\n",
              "      <td>PHOTOS: Green Line derailment near Cottage Gro...</td>\n",
              "      <td>1</td>\n",
              "      <td>11</td>\n",
              "      <td>11</td>\n",
              "      <td>2</td>\n",
              "      <td>8.909091</td>\n",
              "      <td>108</td>\n",
              "      <td>0</td>\n",
              "      <td>0</td>\n",
              "      <td>1.0</td>\n",
              "    </tr>\n",
              "    <tr>\n",
              "      <th>3544</th>\n",
              "      <td>derailment</td>\n",
              "      <td>missing_location</td>\n",
              "      <td>Very sad to learn of the derailment of 2 train...</td>\n",
              "      <td>1</td>\n",
              "      <td>25</td>\n",
              "      <td>21</td>\n",
              "      <td>0</td>\n",
              "      <td>4.600000</td>\n",
              "      <td>139</td>\n",
              "      <td>0</td>\n",
              "      <td>1</td>\n",
              "      <td>1.0</td>\n",
              "    </tr>\n",
              "    <tr>\n",
              "      <th>3140</th>\n",
              "      <td>debris</td>\n",
              "      <td>Tampa, FL</td>\n",
              "      <td>Debris confirmed from MH370; relatives hope fo...</td>\n",
              "      <td>1</td>\n",
              "      <td>17</td>\n",
              "      <td>17</td>\n",
              "      <td>1</td>\n",
              "      <td>7.058824</td>\n",
              "      <td>136</td>\n",
              "      <td>0</td>\n",
              "      <td>0</td>\n",
              "      <td>1.0</td>\n",
              "    </tr>\n",
              "    <tr>\n",
              "      <th>3141</th>\n",
              "      <td>debris</td>\n",
              "      <td>World news</td>\n",
              "      <td>ABC OnlineMH370: Aircraft debris found on La R...</td>\n",
              "      <td>1</td>\n",
              "      <td>21</td>\n",
              "      <td>20</td>\n",
              "      <td>0</td>\n",
              "      <td>5.523810</td>\n",
              "      <td>136</td>\n",
              "      <td>0</td>\n",
              "      <td>0</td>\n",
              "      <td>1.0</td>\n",
              "    </tr>\n",
              "    <tr>\n",
              "      <th>3142</th>\n",
              "      <td>debris</td>\n",
              "      <td>Hong Kong</td>\n",
              "      <td>Malaysia confirms Reunion Island debris is fro...</td>\n",
              "      <td>1</td>\n",
              "      <td>11</td>\n",
              "      <td>11</td>\n",
              "      <td>2</td>\n",
              "      <td>9.090909</td>\n",
              "      <td>110</td>\n",
              "      <td>0</td>\n",
              "      <td>1</td>\n",
              "      <td>1.0</td>\n",
              "    </tr>\n",
              "    <tr>\n",
              "      <th>3144</th>\n",
              "      <td>debris</td>\n",
              "      <td>missing_location</td>\n",
              "      <td>Debris confirmed from MH370; relatives hope fo...</td>\n",
              "      <td>1</td>\n",
              "      <td>15</td>\n",
              "      <td>15</td>\n",
              "      <td>1</td>\n",
              "      <td>6.666667</td>\n",
              "      <td>114</td>\n",
              "      <td>1</td>\n",
              "      <td>1</td>\n",
              "      <td>1.0</td>\n",
              "    </tr>\n",
              "    <tr>\n",
              "      <th>3145</th>\n",
              "      <td>debris</td>\n",
              "      <td>Hong Kong</td>\n",
              "      <td>Plane debris is from missing MH370 http://t.co...</td>\n",
              "      <td>1</td>\n",
              "      <td>7</td>\n",
              "      <td>7</td>\n",
              "      <td>1</td>\n",
              "      <td>7.285714</td>\n",
              "      <td>57</td>\n",
              "      <td>0</td>\n",
              "      <td>0</td>\n",
              "      <td>1.0</td>\n",
              "    </tr>\n",
              "    <tr>\n",
              "      <th>3147</th>\n",
              "      <td>debris</td>\n",
              "      <td>missing_location</td>\n",
              "      <td>MH370: Aircraft debris found on La Reunion is ...</td>\n",
              "      <td>1</td>\n",
              "      <td>20</td>\n",
              "      <td>20</td>\n",
              "      <td>1</td>\n",
              "      <td>5.850000</td>\n",
              "      <td>136</td>\n",
              "      <td>2</td>\n",
              "      <td>0</td>\n",
              "      <td>1.0</td>\n",
              "    </tr>\n",
              "    <tr>\n",
              "      <th>3150</th>\n",
              "      <td>debris</td>\n",
              "      <td>Bristol, UK</td>\n",
              "      <td>Interesting: MH370: Aircraft debris found on L...</td>\n",
              "      <td>1</td>\n",
              "      <td>20</td>\n",
              "      <td>19</td>\n",
              "      <td>1</td>\n",
              "      <td>5.850000</td>\n",
              "      <td>136</td>\n",
              "      <td>0</td>\n",
              "      <td>0</td>\n",
              "      <td>1.0</td>\n",
              "    </tr>\n",
              "    <tr>\n",
              "      <th>3152</th>\n",
              "      <td>debris</td>\n",
              "      <td>labuan, malaysia</td>\n",
              "      <td>Aircraft debris confirmed to be from MH370 - N...</td>\n",
              "      <td>1</td>\n",
              "      <td>14</td>\n",
              "      <td>14</td>\n",
              "      <td>1</td>\n",
              "      <td>5.642857</td>\n",
              "      <td>92</td>\n",
              "      <td>0</td>\n",
              "      <td>0</td>\n",
              "      <td>1.0</td>\n",
              "    </tr>\n",
              "  </tbody>\n",
              "</table>\n",
              "</div>"
            ],
            "text/plain": [
              "         keyword          location  ... mention_count  keyword_target_mean\n",
              "id                                  ...                                   \n",
              "3537  derailment       Chicago, IL  ...             0                  1.0\n",
              "3544  derailment  missing_location  ...             1                  1.0\n",
              "3140      debris         Tampa, FL  ...             0                  1.0\n",
              "3141      debris        World news  ...             0                  1.0\n",
              "3142      debris         Hong Kong  ...             1                  1.0\n",
              "3144      debris  missing_location  ...             1                  1.0\n",
              "3145      debris         Hong Kong  ...             0                  1.0\n",
              "3147      debris  missing_location  ...             0                  1.0\n",
              "3150      debris       Bristol, UK  ...             0                  1.0\n",
              "3152      debris  labuan, malaysia  ...             0                  1.0\n",
              "\n",
              "[10 rows x 12 columns]"
            ]
          },
          "metadata": {
            "tags": []
          },
          "execution_count": 14
        }
      ]
    },
    {
      "cell_type": "code",
      "metadata": {
        "id": "MPRhgrTmWhtx",
        "colab_type": "code",
        "colab": {
          "base_uri": "https://localhost:8080/",
          "height": 34
        },
        "outputId": "b7a0b218-21a7-4a9c-a958-5b2765c662f4"
      },
      "source": [
        "from sklearn.preprocessing import StandardScaler\n",
        "\n",
        "#define and scale our added features\n",
        "train_meta_input = StandardScaler().fit_transform(train.iloc[:, 4:])\n",
        "test_meta_input = StandardScaler().fit_transform(test.iloc[:, 3:])\n",
        "\n",
        "META_DIM = train_meta_input.shape[1]\n",
        "print(META_DIM)"
      ],
      "execution_count": 15,
      "outputs": [
        {
          "output_type": "stream",
          "text": [
            "8\n"
          ],
          "name": "stdout"
        }
      ]
    },
    {
      "cell_type": "markdown",
      "metadata": {
        "id": "Uf7mcleFWhtz",
        "colab_type": "text"
      },
      "source": [
        "# 3. Build Model"
      ]
    },
    {
      "cell_type": "code",
      "metadata": {
        "id": "H5N0HPbIWht2",
        "colab_type": "code",
        "colab": {}
      },
      "source": [
        "def bert_encode(tweet_texts, tokenizer, max_len=512):\n",
        "    all_tokens = []\n",
        "    all_masks = []\n",
        "    all_segments = []\n",
        "\n",
        "    for text in tweet_texts:\n",
        "        text = tokenizer.tokenize(text)\n",
        "            \n",
        "        text = text[:max_len-2]\n",
        "        input_sequence = [\"[CLS]\"] + text + [\"[SEP]\"]\n",
        "        pad_len = max_len - len(input_sequence)\n",
        "        \n",
        "        tokens = tokenizer.convert_tokens_to_ids(input_sequence)\n",
        "        tokens += [0] * pad_len\n",
        "        pad_masks = [1] * len(input_sequence) + [0] * pad_len\n",
        "        segment_ids = [0] * max_len\n",
        "        \n",
        "        all_tokens.append(tokens)\n",
        "        all_masks.append(pad_masks)\n",
        "        all_segments.append(segment_ids)\n",
        "    \n",
        "    return np.array(all_tokens), np.array(all_masks), np.array(all_segments)"
      ],
      "execution_count": 16,
      "outputs": []
    },
    {
      "cell_type": "code",
      "metadata": {
        "id": "IkGvFVzfWht4",
        "colab_type": "code",
        "colab": {}
      },
      "source": [
        "def build_model(bert_layer, max_len=512):\n",
        "    input_word_ids = Input(shape=(max_len,), dtype=tf.int32, name=\"input_word_ids\")\n",
        "    input_mask = Input(shape=(max_len,), dtype=tf.int32, name=\"input_mask\")\n",
        "    segment_ids = Input(shape=(max_len,), dtype=tf.int32, name=\"segment_ids\")\n",
        "    meta_input = Input(shape=(META_DIM,), dtype=tf.float32, name='meta_input')\n",
        "\n",
        "    pool_output, sequence_output = bert_layer([input_word_ids, input_mask, segment_ids])\n",
        "    x = tf.keras.layers.Dense(32,activation='relu')(pool_output)\n",
        "    x = tf.keras.layers.Dropout(0.2)(x)\n",
        "    x = Concatenate()([x, meta_input])\n",
        "    x = Dropout(0.2)(x)\n",
        "    out = Dense(1, activation='sigmoid')(x)\n",
        "    \n",
        "    model = Model(inputs=[input_word_ids, input_mask, segment_ids, meta_input], outputs=out)\n",
        "    model.compile(Adam(lr=1e-5), loss='binary_crossentropy', metrics=['accuracy'])\n",
        "    \n",
        "    return model"
      ],
      "execution_count": 17,
      "outputs": []
    },
    {
      "cell_type": "code",
      "metadata": {
        "id": "P_mY6f-oWht6",
        "colab_type": "code",
        "colab": {
          "base_uri": "https://localhost:8080/",
          "height": 51
        },
        "outputId": "1b01e603-ff7a-4cab-a551-c47f13759781"
      },
      "source": [
        "%%time\n",
        "module_url = \"https://tfhub.dev/tensorflow/bert_en_uncased_L-24_H-1024_A-16/2\"\n",
        "bert_layer = hub.KerasLayer(module_url, trainable=True)"
      ],
      "execution_count": 18,
      "outputs": [
        {
          "output_type": "stream",
          "text": [
            "CPU times: user 22.9 s, sys: 4.93 s, total: 27.8 s\n",
            "Wall time: 43.7 s\n"
          ],
          "name": "stdout"
        }
      ]
    },
    {
      "cell_type": "code",
      "metadata": {
        "id": "4eD7fFqLWht8",
        "colab_type": "code",
        "colab": {}
      },
      "source": [
        "vocab_file = bert_layer.resolved_object.vocab_file.asset_path.numpy()\n",
        "do_lower_case = bert_layer.resolved_object.do_lower_case.numpy()\n",
        "FullTokenizer=bert.bert_tokenization.FullTokenizer\n",
        "tokenizer = FullTokenizer(vocab_file, do_lower_case)"
      ],
      "execution_count": 19,
      "outputs": []
    },
    {
      "cell_type": "code",
      "metadata": {
        "id": "5AXL5eTDWht-",
        "colab_type": "code",
        "colab": {}
      },
      "source": [
        "train_input = bert_encode(train.text.values, tokenizer, max_len=160)\n",
        "test_input = bert_encode(test.text.values, tokenizer, max_len=160)\n",
        "train_labels = train.target.values"
      ],
      "execution_count": 20,
      "outputs": []
    },
    {
      "cell_type": "code",
      "metadata": {
        "id": "Pz0tDqIcWht_",
        "colab_type": "code",
        "colab": {
          "base_uri": "https://localhost:8080/",
          "height": 544
        },
        "outputId": "79a22c7b-58d5-4c10-cdde-d6131e89d193"
      },
      "source": [
        "model = build_model(bert_layer, max_len=160)\n",
        "model.summary()\n",
        "\n",
        "checkpoint = ModelCheckpoint('model.h5', monitor='val_loss', save_best_only=True)"
      ],
      "execution_count": 21,
      "outputs": [
        {
          "output_type": "stream",
          "text": [
            "Model: \"model\"\n",
            "__________________________________________________________________________________________________\n",
            "Layer (type)                    Output Shape         Param #     Connected to                     \n",
            "==================================================================================================\n",
            "input_word_ids (InputLayer)     [(None, 160)]        0                                            \n",
            "__________________________________________________________________________________________________\n",
            "input_mask (InputLayer)         [(None, 160)]        0                                            \n",
            "__________________________________________________________________________________________________\n",
            "segment_ids (InputLayer)        [(None, 160)]        0                                            \n",
            "__________________________________________________________________________________________________\n",
            "keras_layer (KerasLayer)        [(None, 1024), (None 335141889   input_word_ids[0][0]             \n",
            "                                                                 input_mask[0][0]                 \n",
            "                                                                 segment_ids[0][0]                \n",
            "__________________________________________________________________________________________________\n",
            "dense (Dense)                   (None, 32)           32800       keras_layer[0][0]                \n",
            "__________________________________________________________________________________________________\n",
            "dropout (Dropout)               (None, 32)           0           dense[0][0]                      \n",
            "__________________________________________________________________________________________________\n",
            "meta_input (InputLayer)         [(None, 8)]          0                                            \n",
            "__________________________________________________________________________________________________\n",
            "concatenate (Concatenate)       (None, 40)           0           dropout[0][0]                    \n",
            "                                                                 meta_input[0][0]                 \n",
            "__________________________________________________________________________________________________\n",
            "dropout_1 (Dropout)             (None, 40)           0           concatenate[0][0]                \n",
            "__________________________________________________________________________________________________\n",
            "dense_1 (Dense)                 (None, 1)            41          dropout_1[0][0]                  \n",
            "==================================================================================================\n",
            "Total params: 335,174,730\n",
            "Trainable params: 335,174,729\n",
            "Non-trainable params: 1\n",
            "__________________________________________________________________________________________________\n"
          ],
          "name": "stdout"
        }
      ]
    },
    {
      "cell_type": "markdown",
      "metadata": {
        "id": "gP_hxt4Yxc2u",
        "colab_type": "text"
      },
      "source": [
        "# 4. Training"
      ]
    },
    {
      "cell_type": "code",
      "metadata": {
        "id": "6JxsxpYqWhuB",
        "colab_type": "code",
        "colab": {
          "base_uri": "https://localhost:8080/",
          "height": 153
        },
        "outputId": "c2227a97-ee10-4d2f-b6fb-7a45a8b0a3f2"
      },
      "source": [
        "train_history = model.fit(\n",
        "    [train_input, train_meta_input], train_labels, \n",
        "    validation_split=0.2,\n",
        "    epochs=4,\n",
        "    callbacks=[checkpoint],\n",
        "    batch_size=16\n",
        ")"
      ],
      "execution_count": 22,
      "outputs": [
        {
          "output_type": "stream",
          "text": [
            "Epoch 1/4\n",
            "376/376 [==============================] - 460s 1s/step - loss: 0.5287 - accuracy: 0.7576 - val_loss: 0.3984 - val_accuracy: 0.8328\n",
            "Epoch 2/4\n",
            "376/376 [==============================] - 384s 1s/step - loss: 0.3986 - accuracy: 0.8411 - val_loss: 0.4175 - val_accuracy: 0.8381\n",
            "Epoch 3/4\n",
            "376/376 [==============================] - 457s 1s/step - loss: 0.3217 - accuracy: 0.8772 - val_loss: 0.3879 - val_accuracy: 0.8374\n",
            "Epoch 4/4\n",
            "376/376 [==============================] - 384s 1s/step - loss: 0.2610 - accuracy: 0.9030 - val_loss: 0.4719 - val_accuracy: 0.8281\n"
          ],
          "name": "stdout"
        }
      ]
    },
    {
      "cell_type": "markdown",
      "metadata": {
        "id": "mWgkH1DXJiU9",
        "colab_type": "text"
      },
      "source": [
        "# 5. Post-Processing"
      ]
    },
    {
      "cell_type": "code",
      "metadata": {
        "id": "zf2j0gVjWhuD",
        "colab_type": "code",
        "colab": {}
      },
      "source": [
        "model.load_weights('model.h5')\n",
        "test_pred = model.predict([test_input, test_meta_input])\n",
        "test['prediction'] = test_pred"
      ],
      "execution_count": 26,
      "outputs": []
    },
    {
      "cell_type": "code",
      "metadata": {
        "id": "1jiUfH0wTUgE",
        "colab_type": "code",
        "colab": {
          "base_uri": "https://localhost:8080/",
          "height": 1000
        },
        "outputId": "5e654b63-28d7-41f0-9f81-ec3fd0e6f65f"
      },
      "source": [
        "print(test.shape)\n",
        "uncertain = test[(test['prediction'] < 0.85)]\n",
        "print(uncertain.shape)\n",
        "uncertain = uncertain[(uncertain['prediction'] > 0.35)]\n",
        "print(uncertain.shape)\n",
        "uncertain.head(50)"
      ],
      "execution_count": 40,
      "outputs": [
        {
          "output_type": "stream",
          "text": [
            "(3263, 12)\n",
            "(2380, 12)\n",
            "(605, 12)\n"
          ],
          "name": "stdout"
        },
        {
          "output_type": "execute_result",
          "data": {
            "text/html": [
              "<div>\n",
              "<style scoped>\n",
              "    .dataframe tbody tr th:only-of-type {\n",
              "        vertical-align: middle;\n",
              "    }\n",
              "\n",
              "    .dataframe tbody tr th {\n",
              "        vertical-align: top;\n",
              "    }\n",
              "\n",
              "    .dataframe thead th {\n",
              "        text-align: right;\n",
              "    }\n",
              "</style>\n",
              "<table border=\"1\" class=\"dataframe\">\n",
              "  <thead>\n",
              "    <tr style=\"text-align: right;\">\n",
              "      <th></th>\n",
              "      <th>keyword</th>\n",
              "      <th>location</th>\n",
              "      <th>text</th>\n",
              "      <th>word_count</th>\n",
              "      <th>unique_word_count</th>\n",
              "      <th>url_count</th>\n",
              "      <th>mean_word_length</th>\n",
              "      <th>char_count</th>\n",
              "      <th>hashtag_count</th>\n",
              "      <th>mention_count</th>\n",
              "      <th>keyword_target_mean</th>\n",
              "      <th>prediction</th>\n",
              "    </tr>\n",
              "    <tr>\n",
              "      <th>id</th>\n",
              "      <th></th>\n",
              "      <th></th>\n",
              "      <th></th>\n",
              "      <th></th>\n",
              "      <th></th>\n",
              "      <th></th>\n",
              "      <th></th>\n",
              "      <th></th>\n",
              "      <th></th>\n",
              "      <th></th>\n",
              "      <th></th>\n",
              "      <th></th>\n",
              "    </tr>\n",
              "  </thead>\n",
              "  <tbody>\n",
              "    <tr>\n",
              "      <th>12</th>\n",
              "      <td>missing_keyword</td>\n",
              "      <td>missing_location</td>\n",
              "      <td>We're shaking...It's an earthquake</td>\n",
              "      <td>4</td>\n",
              "      <td>4</td>\n",
              "      <td>0</td>\n",
              "      <td>7.750000</td>\n",
              "      <td>34</td>\n",
              "      <td>0</td>\n",
              "      <td>0</td>\n",
              "      <td>0.660714</td>\n",
              "      <td>0.689150</td>\n",
              "    </tr>\n",
              "    <tr>\n",
              "      <th>88</th>\n",
              "      <td>ablaze</td>\n",
              "      <td>missing_location</td>\n",
              "      <td>#nowplaying Alfons - Ablaze 2015 on Puls Radio...</td>\n",
              "      <td>10</td>\n",
              "      <td>10</td>\n",
              "      <td>1</td>\n",
              "      <td>7.100000</td>\n",
              "      <td>80</td>\n",
              "      <td>2</td>\n",
              "      <td>0</td>\n",
              "      <td>0.371429</td>\n",
              "      <td>0.373366</td>\n",
              "    </tr>\n",
              "    <tr>\n",
              "      <th>90</th>\n",
              "      <td>ablaze</td>\n",
              "      <td>121 N La Salle St, Suite 500</td>\n",
              "      <td>'Burning Rahm': Let's hope City Hall builds a ...</td>\n",
              "      <td>21</td>\n",
              "      <td>21</td>\n",
              "      <td>1</td>\n",
              "      <td>5.857143</td>\n",
              "      <td>143</td>\n",
              "      <td>0</td>\n",
              "      <td>1</td>\n",
              "      <td>0.371429</td>\n",
              "      <td>0.591103</td>\n",
              "    </tr>\n",
              "    <tr>\n",
              "      <th>111</th>\n",
              "      <td>accident</td>\n",
              "      <td>Bexhill</td>\n",
              "      <td>@Traffic_SouthE @roadpol_east Accident on A27 ...</td>\n",
              "      <td>14</td>\n",
              "      <td>14</td>\n",
              "      <td>0</td>\n",
              "      <td>6.142857</td>\n",
              "      <td>99</td>\n",
              "      <td>0</td>\n",
              "      <td>2</td>\n",
              "      <td>0.685714</td>\n",
              "      <td>0.754021</td>\n",
              "    </tr>\n",
              "    <tr>\n",
              "      <th>142</th>\n",
              "      <td>accident</td>\n",
              "      <td>Las Vegas</td>\n",
              "      <td>Please donate and spread the word! A training ...</td>\n",
              "      <td>17</td>\n",
              "      <td>16</td>\n",
              "      <td>1</td>\n",
              "      <td>6.529412</td>\n",
              "      <td>127</td>\n",
              "      <td>0</td>\n",
              "      <td>0</td>\n",
              "      <td>0.685714</td>\n",
              "      <td>0.417578</td>\n",
              "    </tr>\n",
              "    <tr>\n",
              "      <th>188</th>\n",
              "      <td>aftershock</td>\n",
              "      <td>London, England</td>\n",
              "      <td>Brass and Copper in Cataclysm &amp;amp; AfterShock...</td>\n",
              "      <td>8</td>\n",
              "      <td>8</td>\n",
              "      <td>1</td>\n",
              "      <td>8.125000</td>\n",
              "      <td>72</td>\n",
              "      <td>0</td>\n",
              "      <td>0</td>\n",
              "      <td>0.000000</td>\n",
              "      <td>0.399708</td>\n",
              "    </tr>\n",
              "    <tr>\n",
              "      <th>206</th>\n",
              "      <td>airplane%20accident</td>\n",
              "      <td>missing_location</td>\n",
              "      <td>A girl who died in an airplane accident fiftee...</td>\n",
              "      <td>11</td>\n",
              "      <td>11</td>\n",
              "      <td>0</td>\n",
              "      <td>4.272727</td>\n",
              "      <td>57</td>\n",
              "      <td>0</td>\n",
              "      <td>0</td>\n",
              "      <td>0.852941</td>\n",
              "      <td>0.741175</td>\n",
              "    </tr>\n",
              "    <tr>\n",
              "      <th>286</th>\n",
              "      <td>ambulance</td>\n",
              "      <td>World</td>\n",
              "      <td>2 held with heroin in ambulance http://t.co/d9...</td>\n",
              "      <td>8</td>\n",
              "      <td>8</td>\n",
              "      <td>2</td>\n",
              "      <td>8.750000</td>\n",
              "      <td>77</td>\n",
              "      <td>0</td>\n",
              "      <td>0</td>\n",
              "      <td>0.526316</td>\n",
              "      <td>0.734110</td>\n",
              "    </tr>\n",
              "    <tr>\n",
              "      <th>292</th>\n",
              "      <td>ambulance</td>\n",
              "      <td>West Chester, PA</td>\n",
              "      <td>Why should a helicopter ambulance ride to tran...</td>\n",
              "      <td>18</td>\n",
              "      <td>16</td>\n",
              "      <td>2</td>\n",
              "      <td>6.666667</td>\n",
              "      <td>137</td>\n",
              "      <td>0</td>\n",
              "      <td>0</td>\n",
              "      <td>0.526316</td>\n",
              "      <td>0.427684</td>\n",
              "    </tr>\n",
              "    <tr>\n",
              "      <th>306</th>\n",
              "      <td>annihilated</td>\n",
              "      <td>eileenborut,webster, tx</td>\n",
              "      <td>@RosieGray Now in all sincerety do you think t...</td>\n",
              "      <td>25</td>\n",
              "      <td>23</td>\n",
              "      <td>0</td>\n",
              "      <td>4.240000</td>\n",
              "      <td>130</td>\n",
              "      <td>0</td>\n",
              "      <td>1</td>\n",
              "      <td>0.323529</td>\n",
              "      <td>0.565385</td>\n",
              "    </tr>\n",
              "    <tr>\n",
              "      <th>325</th>\n",
              "      <td>annihilated</td>\n",
              "      <td>upstate NY</td>\n",
              "      <td>@thehill this is 1 example of y the Conservati...</td>\n",
              "      <td>22</td>\n",
              "      <td>22</td>\n",
              "      <td>0</td>\n",
              "      <td>5.363636</td>\n",
              "      <td>139</td>\n",
              "      <td>0</td>\n",
              "      <td>1</td>\n",
              "      <td>0.323529</td>\n",
              "      <td>0.398394</td>\n",
              "    </tr>\n",
              "    <tr>\n",
              "      <th>343</th>\n",
              "      <td>annihilated</td>\n",
              "      <td>Chicago, Illinois</td>\n",
              "      <td>$GMCR no longe rGreen mountain now Red Mountai...</td>\n",
              "      <td>11</td>\n",
              "      <td>11</td>\n",
              "      <td>0</td>\n",
              "      <td>6.272727</td>\n",
              "      <td>79</td>\n",
              "      <td>0</td>\n",
              "      <td>0</td>\n",
              "      <td>0.323529</td>\n",
              "      <td>0.487303</td>\n",
              "    </tr>\n",
              "    <tr>\n",
              "      <th>374</th>\n",
              "      <td>annihilation</td>\n",
              "      <td>missing_location</td>\n",
              "      <td>RT SIGN URGENT Stop the Annihilation of the Sa...</td>\n",
              "      <td>15</td>\n",
              "      <td>14</td>\n",
              "      <td>1</td>\n",
              "      <td>7.466667</td>\n",
              "      <td>126</td>\n",
              "      <td>2</td>\n",
              "      <td>0</td>\n",
              "      <td>0.344828</td>\n",
              "      <td>0.564721</td>\n",
              "    </tr>\n",
              "    <tr>\n",
              "      <th>379</th>\n",
              "      <td>annihilation</td>\n",
              "      <td>Wayne, NJ</td>\n",
              "      <td>@INCIndia under Sonia Gandhi is like Pakistan....</td>\n",
              "      <td>18</td>\n",
              "      <td>16</td>\n",
              "      <td>1</td>\n",
              "      <td>6.777778</td>\n",
              "      <td>139</td>\n",
              "      <td>0</td>\n",
              "      <td>1</td>\n",
              "      <td>0.344828</td>\n",
              "      <td>0.486279</td>\n",
              "    </tr>\n",
              "    <tr>\n",
              "      <th>387</th>\n",
              "      <td>annihilation</td>\n",
              "      <td>missing_location</td>\n",
              "      <td>Stop the Annihilation of the Salt River Wild H...</td>\n",
              "      <td>12</td>\n",
              "      <td>11</td>\n",
              "      <td>1</td>\n",
              "      <td>6.583333</td>\n",
              "      <td>90</td>\n",
              "      <td>0</td>\n",
              "      <td>1</td>\n",
              "      <td>0.344828</td>\n",
              "      <td>0.454085</td>\n",
              "    </tr>\n",
              "    <tr>\n",
              "      <th>408</th>\n",
              "      <td>apocalypse</td>\n",
              "      <td>missing_location</td>\n",
              "      <td>#AskConnor there's a zombie apocalypse. the it...</td>\n",
              "      <td>20</td>\n",
              "      <td>18</td>\n",
              "      <td>0</td>\n",
              "      <td>5.150000</td>\n",
              "      <td>122</td>\n",
              "      <td>1</td>\n",
              "      <td>0</td>\n",
              "      <td>0.281250</td>\n",
              "      <td>0.362184</td>\n",
              "    </tr>\n",
              "    <tr>\n",
              "      <th>417</th>\n",
              "      <td>apocalypse</td>\n",
              "      <td>missing_location</td>\n",
              "      <td>Apocalypse no! Why artists should not go into ...</td>\n",
              "      <td>15</td>\n",
              "      <td>15</td>\n",
              "      <td>1</td>\n",
              "      <td>6.533333</td>\n",
              "      <td>113</td>\n",
              "      <td>3</td>\n",
              "      <td>0</td>\n",
              "      <td>0.281250</td>\n",
              "      <td>0.741030</td>\n",
              "    </tr>\n",
              "    <tr>\n",
              "      <th>439</th>\n",
              "      <td>apocalypse</td>\n",
              "      <td>Arlington</td>\n",
              "      <td>OMg zombie apocalypse among my students... -___-</td>\n",
              "      <td>7</td>\n",
              "      <td>7</td>\n",
              "      <td>0</td>\n",
              "      <td>6.000000</td>\n",
              "      <td>48</td>\n",
              "      <td>0</td>\n",
              "      <td>0</td>\n",
              "      <td>0.281250</td>\n",
              "      <td>0.490139</td>\n",
              "    </tr>\n",
              "    <tr>\n",
              "      <th>494</th>\n",
              "      <td>armageddon</td>\n",
              "      <td>missing_location</td>\n",
              "      <td>#MustRead: Vladimir #Putin Issues Major Warnin...</td>\n",
              "      <td>19</td>\n",
              "      <td>19</td>\n",
              "      <td>1</td>\n",
              "      <td>6.315789</td>\n",
              "      <td>138</td>\n",
              "      <td>4</td>\n",
              "      <td>1</td>\n",
              "      <td>0.119048</td>\n",
              "      <td>0.797293</td>\n",
              "    </tr>\n",
              "    <tr>\n",
              "      <th>557</th>\n",
              "      <td>arson</td>\n",
              "      <td>Paterson, New Jersey</td>\n",
              "      <td>Mourning notices for stabbing arson victims st...</td>\n",
              "      <td>19</td>\n",
              "      <td>18</td>\n",
              "      <td>1</td>\n",
              "      <td>6.368421</td>\n",
              "      <td>139</td>\n",
              "      <td>0</td>\n",
              "      <td>0</td>\n",
              "      <td>0.687500</td>\n",
              "      <td>0.732212</td>\n",
              "    </tr>\n",
              "    <tr>\n",
              "      <th>566</th>\n",
              "      <td>arson</td>\n",
              "      <td>Saginaw, Mich.</td>\n",
              "      <td>RT Saginaw - Police sketches of 2 'persons of ...</td>\n",
              "      <td>15</td>\n",
              "      <td>13</td>\n",
              "      <td>2</td>\n",
              "      <td>6.933333</td>\n",
              "      <td>118</td>\n",
              "      <td>0</td>\n",
              "      <td>0</td>\n",
              "      <td>0.687500</td>\n",
              "      <td>0.607454</td>\n",
              "    </tr>\n",
              "    <tr>\n",
              "      <th>573</th>\n",
              "      <td>arson</td>\n",
              "      <td>missing_location</td>\n",
              "      <td>WEHTWTVWlocal: Trial date set for man charged ...</td>\n",
              "      <td>11</td>\n",
              "      <td>11</td>\n",
              "      <td>1</td>\n",
              "      <td>7.272727</td>\n",
              "      <td>90</td>\n",
              "      <td>0</td>\n",
              "      <td>0</td>\n",
              "      <td>0.687500</td>\n",
              "      <td>0.605351</td>\n",
              "    </tr>\n",
              "    <tr>\n",
              "      <th>586</th>\n",
              "      <td>arson</td>\n",
              "      <td>missing_location</td>\n",
              "      <td>960KZIM: Steele police arrest 2 in possible ar...</td>\n",
              "      <td>10</td>\n",
              "      <td>10</td>\n",
              "      <td>1</td>\n",
              "      <td>7.800000</td>\n",
              "      <td>87</td>\n",
              "      <td>0</td>\n",
              "      <td>0</td>\n",
              "      <td>0.687500</td>\n",
              "      <td>0.636053</td>\n",
              "    </tr>\n",
              "    <tr>\n",
              "      <th>595</th>\n",
              "      <td>arson</td>\n",
              "      <td>missing_location</td>\n",
              "      <td>Mourning notices for stabbing arson victims st...</td>\n",
              "      <td>19</td>\n",
              "      <td>18</td>\n",
              "      <td>1</td>\n",
              "      <td>6.368421</td>\n",
              "      <td>139</td>\n",
              "      <td>0</td>\n",
              "      <td>0</td>\n",
              "      <td>0.687500</td>\n",
              "      <td>0.694663</td>\n",
              "    </tr>\n",
              "    <tr>\n",
              "      <th>597</th>\n",
              "      <td>arsonist</td>\n",
              "      <td>missing_location</td>\n",
              "      <td>Owner of Chicago-Area Gay Bar Admits to Arson ...</td>\n",
              "      <td>20</td>\n",
              "      <td>18</td>\n",
              "      <td>1</td>\n",
              "      <td>5.850000</td>\n",
              "      <td>136</td>\n",
              "      <td>0</td>\n",
              "      <td>0</td>\n",
              "      <td>0.235294</td>\n",
              "      <td>0.394417</td>\n",
              "    </tr>\n",
              "    <tr>\n",
              "      <th>618</th>\n",
              "      <td>arsonist</td>\n",
              "      <td>Dorset, UK</td>\n",
              "      <td>Hotel arsonist who caused å£70000 damage was ...</td>\n",
              "      <td>20</td>\n",
              "      <td>19</td>\n",
              "      <td>1</td>\n",
              "      <td>6.050000</td>\n",
              "      <td>140</td>\n",
              "      <td>0</td>\n",
              "      <td>0</td>\n",
              "      <td>0.235294</td>\n",
              "      <td>0.829815</td>\n",
              "    </tr>\n",
              "    <tr>\n",
              "      <th>620</th>\n",
              "      <td>arsonist</td>\n",
              "      <td>San Francisco</td>\n",
              "      <td>suspected serial arsonist in east bay under ar...</td>\n",
              "      <td>13</td>\n",
              "      <td>13</td>\n",
              "      <td>0</td>\n",
              "      <td>7.307692</td>\n",
              "      <td>107</td>\n",
              "      <td>0</td>\n",
              "      <td>4</td>\n",
              "      <td>0.235294</td>\n",
              "      <td>0.763648</td>\n",
              "    </tr>\n",
              "    <tr>\n",
              "      <th>634</th>\n",
              "      <td>arsonist</td>\n",
              "      <td>missing_location</td>\n",
              "      <td>Surveillance Video Captures Man Removing Ameri...</td>\n",
              "      <td>15</td>\n",
              "      <td>15</td>\n",
              "      <td>1</td>\n",
              "      <td>6.333333</td>\n",
              "      <td>109</td>\n",
              "      <td>0</td>\n",
              "      <td>0</td>\n",
              "      <td>0.235294</td>\n",
              "      <td>0.467021</td>\n",
              "    </tr>\n",
              "    <tr>\n",
              "      <th>639</th>\n",
              "      <td>arsonist</td>\n",
              "      <td>San Francisco</td>\n",
              "      <td>Serial arsonist gets no bail not jail release ...</td>\n",
              "      <td>9</td>\n",
              "      <td>9</td>\n",
              "      <td>1</td>\n",
              "      <td>6.666667</td>\n",
              "      <td>68</td>\n",
              "      <td>0</td>\n",
              "      <td>0</td>\n",
              "      <td>0.235294</td>\n",
              "      <td>0.767236</td>\n",
              "    </tr>\n",
              "    <tr>\n",
              "      <th>666</th>\n",
              "      <td>attack</td>\n",
              "      <td>Indianapolis</td>\n",
              "      <td>TexasÛªs Gratuitously Cruel Attack On A Dying...</td>\n",
              "      <td>9</td>\n",
              "      <td>9</td>\n",
              "      <td>1</td>\n",
              "      <td>7.777778</td>\n",
              "      <td>78</td>\n",
              "      <td>0</td>\n",
              "      <td>0</td>\n",
              "      <td>0.694444</td>\n",
              "      <td>0.633301</td>\n",
              "    </tr>\n",
              "    <tr>\n",
              "      <th>693</th>\n",
              "      <td>attack</td>\n",
              "      <td>venezuela</td>\n",
              "      <td>RT: @rt_com :Tory attack on Freedom of Informa...</td>\n",
              "      <td>17</td>\n",
              "      <td>16</td>\n",
              "      <td>2</td>\n",
              "      <td>7.647059</td>\n",
              "      <td>146</td>\n",
              "      <td>0</td>\n",
              "      <td>1</td>\n",
              "      <td>0.694444</td>\n",
              "      <td>0.672618</td>\n",
              "    </tr>\n",
              "    <tr>\n",
              "      <th>695</th>\n",
              "      <td>attack</td>\n",
              "      <td>Twitter</td>\n",
              "      <td>#porn #nsfw: Blacks attack for white married s...</td>\n",
              "      <td>9</td>\n",
              "      <td>9</td>\n",
              "      <td>1</td>\n",
              "      <td>7.111111</td>\n",
              "      <td>72</td>\n",
              "      <td>2</td>\n",
              "      <td>0</td>\n",
              "      <td>0.694444</td>\n",
              "      <td>0.457167</td>\n",
              "    </tr>\n",
              "    <tr>\n",
              "      <th>701</th>\n",
              "      <td>attacked</td>\n",
              "      <td>missing_location</td>\n",
              "      <td>Aus need career best of @davidwarner31 along w...</td>\n",
              "      <td>21</td>\n",
              "      <td>21</td>\n",
              "      <td>0</td>\n",
              "      <td>5.380952</td>\n",
              "      <td>133</td>\n",
              "      <td>0</td>\n",
              "      <td>1</td>\n",
              "      <td>0.600000</td>\n",
              "      <td>0.499673</td>\n",
              "    </tr>\n",
              "    <tr>\n",
              "      <th>741</th>\n",
              "      <td>attacked</td>\n",
              "      <td>Helsinki, Finland</td>\n",
              "      <td>@LogitechG BUT THEN THE FIRE NATION ATTACKED....</td>\n",
              "      <td>7</td>\n",
              "      <td>7</td>\n",
              "      <td>0</td>\n",
              "      <td>6.000000</td>\n",
              "      <td>48</td>\n",
              "      <td>0</td>\n",
              "      <td>1</td>\n",
              "      <td>0.600000</td>\n",
              "      <td>0.460447</td>\n",
              "    </tr>\n",
              "    <tr>\n",
              "      <th>760</th>\n",
              "      <td>avalanche</td>\n",
              "      <td>missing_location</td>\n",
              "      <td>@cierranb5678 I was just there and my dad told...</td>\n",
              "      <td>18</td>\n",
              "      <td>17</td>\n",
              "      <td>0</td>\n",
              "      <td>3.944444</td>\n",
              "      <td>88</td>\n",
              "      <td>0</td>\n",
              "      <td>1</td>\n",
              "      <td>0.133333</td>\n",
              "      <td>0.364482</td>\n",
              "    </tr>\n",
              "    <tr>\n",
              "      <th>830</th>\n",
              "      <td>bioterror</td>\n",
              "      <td>missing_location</td>\n",
              "      <td>FedEx no longer to transport bioterror germs i...</td>\n",
              "      <td>14</td>\n",
              "      <td>14</td>\n",
              "      <td>0</td>\n",
              "      <td>5.428571</td>\n",
              "      <td>89</td>\n",
              "      <td>1</td>\n",
              "      <td>0</td>\n",
              "      <td>0.594595</td>\n",
              "      <td>0.675633</td>\n",
              "    </tr>\n",
              "    <tr>\n",
              "      <th>831</th>\n",
              "      <td>bioterror</td>\n",
              "      <td>missing_location</td>\n",
              "      <td>FedEx no longer to transport bioterror germs i...</td>\n",
              "      <td>16</td>\n",
              "      <td>16</td>\n",
              "      <td>1</td>\n",
              "      <td>6.062500</td>\n",
              "      <td>112</td>\n",
              "      <td>0</td>\n",
              "      <td>1</td>\n",
              "      <td>0.594595</td>\n",
              "      <td>0.658723</td>\n",
              "    </tr>\n",
              "    <tr>\n",
              "      <th>839</th>\n",
              "      <td>bioterror</td>\n",
              "      <td>South of Boston</td>\n",
              "      <td>FedEx no longer to transport bioterror germs i...</td>\n",
              "      <td>16</td>\n",
              "      <td>16</td>\n",
              "      <td>1</td>\n",
              "      <td>6.062500</td>\n",
              "      <td>112</td>\n",
              "      <td>0</td>\n",
              "      <td>1</td>\n",
              "      <td>0.594595</td>\n",
              "      <td>0.654240</td>\n",
              "    </tr>\n",
              "    <tr>\n",
              "      <th>847</th>\n",
              "      <td>bioterror</td>\n",
              "      <td>East Texas</td>\n",
              "      <td>FedEx no longer to transport bioterror germs i...</td>\n",
              "      <td>16</td>\n",
              "      <td>16</td>\n",
              "      <td>2</td>\n",
              "      <td>7.375000</td>\n",
              "      <td>135</td>\n",
              "      <td>1</td>\n",
              "      <td>0</td>\n",
              "      <td>0.594595</td>\n",
              "      <td>0.732645</td>\n",
              "    </tr>\n",
              "    <tr>\n",
              "      <th>850</th>\n",
              "      <td>bioterror</td>\n",
              "      <td>Washington, D.C., area</td>\n",
              "      <td>Latest fallout from biolab safety lapses: FedE...</td>\n",
              "      <td>18</td>\n",
              "      <td>18</td>\n",
              "      <td>1</td>\n",
              "      <td>6.888889</td>\n",
              "      <td>141</td>\n",
              "      <td>0</td>\n",
              "      <td>0</td>\n",
              "      <td>0.594595</td>\n",
              "      <td>0.613619</td>\n",
              "    </tr>\n",
              "    <tr>\n",
              "      <th>854</th>\n",
              "      <td>bioterror</td>\n",
              "      <td>missing_location</td>\n",
              "      <td>#FedEx no longer to transport #bioterror germs...</td>\n",
              "      <td>14</td>\n",
              "      <td>14</td>\n",
              "      <td>1</td>\n",
              "      <td>6.285714</td>\n",
              "      <td>101</td>\n",
              "      <td>3</td>\n",
              "      <td>0</td>\n",
              "      <td>0.594595</td>\n",
              "      <td>0.754471</td>\n",
              "    </tr>\n",
              "    <tr>\n",
              "      <th>855</th>\n",
              "      <td>bioterror</td>\n",
              "      <td>Jacksonville, FL</td>\n",
              "      <td>FedEx stops shipping potential bioterror patho...</td>\n",
              "      <td>17</td>\n",
              "      <td>16</td>\n",
              "      <td>1</td>\n",
              "      <td>7.176471</td>\n",
              "      <td>138</td>\n",
              "      <td>0</td>\n",
              "      <td>0</td>\n",
              "      <td>0.594595</td>\n",
              "      <td>0.757110</td>\n",
              "    </tr>\n",
              "    <tr>\n",
              "      <th>858</th>\n",
              "      <td>bioterror</td>\n",
              "      <td>missing_location</td>\n",
              "      <td>Citizens Education Project has acted for years...</td>\n",
              "      <td>16</td>\n",
              "      <td>16</td>\n",
              "      <td>1</td>\n",
              "      <td>6.187500</td>\n",
              "      <td>114</td>\n",
              "      <td>0</td>\n",
              "      <td>0</td>\n",
              "      <td>0.594595</td>\n",
              "      <td>0.434348</td>\n",
              "    </tr>\n",
              "    <tr>\n",
              "      <th>861</th>\n",
              "      <td>bioterror</td>\n",
              "      <td>Phoenix, AZ</td>\n",
              "      <td>FedEx no longer to transport bioterror germs i...</td>\n",
              "      <td>15</td>\n",
              "      <td>15</td>\n",
              "      <td>2</td>\n",
              "      <td>7.133333</td>\n",
              "      <td>121</td>\n",
              "      <td>0</td>\n",
              "      <td>0</td>\n",
              "      <td>0.594595</td>\n",
              "      <td>0.741062</td>\n",
              "    </tr>\n",
              "    <tr>\n",
              "      <th>865</th>\n",
              "      <td>bioterror</td>\n",
              "      <td>Jacksonville, Florida</td>\n",
              "      <td>In offbeat news @fedex has stopped shipping bi...</td>\n",
              "      <td>10</td>\n",
              "      <td>10</td>\n",
              "      <td>1</td>\n",
              "      <td>7.700000</td>\n",
              "      <td>86</td>\n",
              "      <td>0</td>\n",
              "      <td>1</td>\n",
              "      <td>0.594595</td>\n",
              "      <td>0.602153</td>\n",
              "    </tr>\n",
              "    <tr>\n",
              "      <th>869</th>\n",
              "      <td>bioterror</td>\n",
              "      <td>missing_location</td>\n",
              "      <td>FedEx no longer to transport bioterror germs i...</td>\n",
              "      <td>17</td>\n",
              "      <td>17</td>\n",
              "      <td>1</td>\n",
              "      <td>6.176471</td>\n",
              "      <td>122</td>\n",
              "      <td>3</td>\n",
              "      <td>0</td>\n",
              "      <td>0.594595</td>\n",
              "      <td>0.765254</td>\n",
              "    </tr>\n",
              "    <tr>\n",
              "      <th>887</th>\n",
              "      <td>bioterrorism</td>\n",
              "      <td>Amsterdam NL or Greenwich USA</td>\n",
              "      <td>Is it time to hedge against catastrophic risks...</td>\n",
              "      <td>17</td>\n",
              "      <td>17</td>\n",
              "      <td>1</td>\n",
              "      <td>6.529412</td>\n",
              "      <td>127</td>\n",
              "      <td>0</td>\n",
              "      <td>0</td>\n",
              "      <td>0.740741</td>\n",
              "      <td>0.580018</td>\n",
              "    </tr>\n",
              "    <tr>\n",
              "      <th>897</th>\n",
              "      <td>bioterrorism</td>\n",
              "      <td>missing_location</td>\n",
              "      <td>Bioterrorism : Guidelines for Medical and Publ...</td>\n",
              "      <td>12</td>\n",
              "      <td>12</td>\n",
              "      <td>2</td>\n",
              "      <td>9.000000</td>\n",
              "      <td>119</td>\n",
              "      <td>0</td>\n",
              "      <td>0</td>\n",
              "      <td>0.740741</td>\n",
              "      <td>0.753150</td>\n",
              "    </tr>\n",
              "    <tr>\n",
              "      <th>900</th>\n",
              "      <td>bioterrorism</td>\n",
              "      <td>Denver,CO USA</td>\n",
              "      <td>@bbcworld Bioterrorism drones can reach large ...</td>\n",
              "      <td>8</td>\n",
              "      <td>8</td>\n",
              "      <td>0</td>\n",
              "      <td>6.750000</td>\n",
              "      <td>61</td>\n",
              "      <td>0</td>\n",
              "      <td>1</td>\n",
              "      <td>0.740741</td>\n",
              "      <td>0.795521</td>\n",
              "    </tr>\n",
              "    <tr>\n",
              "      <th>901</th>\n",
              "      <td>bioterrorism</td>\n",
              "      <td>The Forbidden Forest</td>\n",
              "      <td>@BishoyRagheb fair. Bioterrorism is the way to...</td>\n",
              "      <td>15</td>\n",
              "      <td>15</td>\n",
              "      <td>0</td>\n",
              "      <td>5.066667</td>\n",
              "      <td>90</td>\n",
              "      <td>0</td>\n",
              "      <td>1</td>\n",
              "      <td>0.740741</td>\n",
              "      <td>0.646450</td>\n",
              "    </tr>\n",
              "  </tbody>\n",
              "</table>\n",
              "</div>"
            ],
            "text/plain": [
              "                 keyword  ... prediction\n",
              "id                        ...           \n",
              "12       missing_keyword  ...   0.689150\n",
              "88                ablaze  ...   0.373366\n",
              "90                ablaze  ...   0.591103\n",
              "111             accident  ...   0.754021\n",
              "142             accident  ...   0.417578\n",
              "188           aftershock  ...   0.399708\n",
              "206  airplane%20accident  ...   0.741175\n",
              "286            ambulance  ...   0.734110\n",
              "292            ambulance  ...   0.427684\n",
              "306          annihilated  ...   0.565385\n",
              "325          annihilated  ...   0.398394\n",
              "343          annihilated  ...   0.487303\n",
              "374         annihilation  ...   0.564721\n",
              "379         annihilation  ...   0.486279\n",
              "387         annihilation  ...   0.454085\n",
              "408           apocalypse  ...   0.362184\n",
              "417           apocalypse  ...   0.741030\n",
              "439           apocalypse  ...   0.490139\n",
              "494           armageddon  ...   0.797293\n",
              "557                arson  ...   0.732212\n",
              "566                arson  ...   0.607454\n",
              "573                arson  ...   0.605351\n",
              "586                arson  ...   0.636053\n",
              "595                arson  ...   0.694663\n",
              "597             arsonist  ...   0.394417\n",
              "618             arsonist  ...   0.829815\n",
              "620             arsonist  ...   0.763648\n",
              "634             arsonist  ...   0.467021\n",
              "639             arsonist  ...   0.767236\n",
              "666               attack  ...   0.633301\n",
              "693               attack  ...   0.672618\n",
              "695               attack  ...   0.457167\n",
              "701             attacked  ...   0.499673\n",
              "741             attacked  ...   0.460447\n",
              "760            avalanche  ...   0.364482\n",
              "830            bioterror  ...   0.675633\n",
              "831            bioterror  ...   0.658723\n",
              "839            bioterror  ...   0.654240\n",
              "847            bioterror  ...   0.732645\n",
              "850            bioterror  ...   0.613619\n",
              "854            bioterror  ...   0.754471\n",
              "855            bioterror  ...   0.757110\n",
              "858            bioterror  ...   0.434348\n",
              "861            bioterror  ...   0.741062\n",
              "865            bioterror  ...   0.602153\n",
              "869            bioterror  ...   0.765254\n",
              "887         bioterrorism  ...   0.580018\n",
              "897         bioterrorism  ...   0.753150\n",
              "900         bioterrorism  ...   0.795521\n",
              "901         bioterrorism  ...   0.646450\n",
              "\n",
              "[50 rows x 12 columns]"
            ]
          },
          "metadata": {
            "tags": []
          },
          "execution_count": 40
        }
      ]
    },
    {
      "cell_type": "code",
      "metadata": {
        "id": "pfDFwsGYv-cQ",
        "colab_type": "code",
        "colab": {
          "base_uri": "https://localhost:8080/",
          "height": 281
        },
        "outputId": "e7e41ea2-7c0b-4b19-bc42-846caabcb37d"
      },
      "source": [
        "sorted = np.sort(test_pred, axis=0)\n",
        "\n",
        "plt.hist(test_pred, bins = 100) \n",
        "plt.title(\"histogram\") \n",
        "plt.show()\n"
      ],
      "execution_count": 33,
      "outputs": [
        {
          "output_type": "display_data",
          "data": {
            "image/png": "[encoded data removed]",
            "text/plain": [
              "<Figure size 432x288 with 1 Axes>"
            ]
          },
          "metadata": {
            "tags": [],
            "needs_background": "light"
          }
        }
      ]
    },
    {
      "cell_type": "markdown",
      "metadata": {
        "id": "_9Ta5kzdxojT",
        "colab_type": "text"
      },
      "source": [
        "# 6. Final Results"
      ]
    },
    {
      "cell_type": "code",
      "metadata": {
        "id": "xoUs_gRPJw_C",
        "colab_type": "code",
        "colab": {}
      },
      "source": [
        "submission['target'] = test_pred.round().astype(int)\n",
        "submission.to_csv('submission.csv', index=False)"
      ],
      "execution_count": null,
      "outputs": []
    },
    {
      "cell_type": "code",
      "metadata": {
        "id": "DDifqsiz5qX5",
        "colab_type": "code",
        "colab": {
          "base_uri": "https://localhost:8080/",
          "height": 122
        },
        "outputId": "3a86930c-e5fe-4b85-f59d-15c702e201f5"
      },
      "source": [
        "from google.colab import drive\n",
        "drive.mount('/content/drive')\n",
        "root_path = '/content/drive/My Drive/INFM/DataScience/Project'"
      ],
      "execution_count": 36,
      "outputs": [
        {
          "output_type": "stream",
          "text": [
            "Go to this URL in a browser: https://accounts.google.com/o/oauth2/auth?client_id=947318989803-6bn6qk8qdgf4n4g3pfee6491hc0brc4i.apps.googleusercontent.com&redirect_uri=urn%3aietf%3awg%3aoauth%3a2.0%3aoob&response_type=code&scope=email%20https%3a%2f%2fwww.googleapis.com%2fauth%2fdocs.test%20https%3a%2f%2fwww.googleapis.com%2fauth%2fdrive%20https%3a%2f%2fwww.googleapis.com%2fauth%2fdrive.photos.readonly%20https%3a%2f%2fwww.googleapis.com%2fauth%2fpeopleapi.readonly\n",
            "\n",
            "Enter your authorization code:\n",
            "··········\n",
            "Mounted at /content/drive\n"
          ],
          "name": "stdout"
        }
      ]
    },
    {
      "cell_type": "code",
      "metadata": {
        "id": "UrFFzQ-P6hgH",
        "colab_type": "code",
        "colab": {}
      },
      "source": [
        "model.save(root_path + '/models/model_2.h5') "
      ],
      "execution_count": 38,
      "outputs": []
    },
    {
      "cell_type": "code",
      "metadata": {
        "id": "O5EA792dWhuG",
        "colab_type": "code",
        "colab": {}
      },
      "source": [
        ""
      ],
      "execution_count": null,
      "outputs": []
    },
    {
      "cell_type": "code",
      "metadata": {
        "id": "b0JxmfruWhuI",
        "colab_type": "code",
        "colab": {}
      },
      "source": [
        ""
      ],
      "execution_count": null,
      "outputs": []
    },
    {
      "cell_type": "code",
      "metadata": {
        "id": "338RC7JNWhuK",
        "colab_type": "code",
        "colab": {}
      },
      "source": [
        ""
      ],
      "execution_count": null,
      "outputs": []
    }
  ]
}